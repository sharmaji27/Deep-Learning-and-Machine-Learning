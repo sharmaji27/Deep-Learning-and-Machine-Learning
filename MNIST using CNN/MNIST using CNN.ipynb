{
 "cells": [
  {
   "cell_type": "code",
   "execution_count": 1,
   "metadata": {},
   "outputs": [],
   "source": [
    "import tensorflow as tf\n",
    "from tensorflow.examples.tutorials.mnist import input_data"
   ]
  },
  {
   "cell_type": "code",
   "execution_count": 2,
   "metadata": {},
   "outputs": [
    {
     "name": "stderr",
     "output_type": "stream",
     "text": [
      "WARNING: Logging before flag parsing goes to stderr.\n",
      "W1009 12:19:46.067090 18392 deprecation.py:323] From <ipython-input-2-d08c12c637be>:1: read_data_sets (from tensorflow.contrib.learn.python.learn.datasets.mnist) is deprecated and will be removed in a future version.\n",
      "Instructions for updating:\n",
      "Please use alternatives such as official/mnist/dataset.py from tensorflow/models.\n",
      "W1009 12:19:46.072076 18392 deprecation.py:323] From C:\\Users\\sharma ji\\AppData\\Roaming\\Python\\Python37\\site-packages\\tensorflow\\contrib\\learn\\python\\learn\\datasets\\mnist.py:260: maybe_download (from tensorflow.contrib.learn.python.learn.datasets.base) is deprecated and will be removed in a future version.\n",
      "Instructions for updating:\n",
      "Please write your own downloading logic.\n",
      "W1009 12:19:46.075067 18392 deprecation.py:323] From C:\\Users\\sharma ji\\AppData\\Roaming\\Python\\Python37\\site-packages\\tensorflow\\contrib\\learn\\python\\learn\\datasets\\mnist.py:262: extract_images (from tensorflow.contrib.learn.python.learn.datasets.mnist) is deprecated and will be removed in a future version.\n",
      "Instructions for updating:\n",
      "Please use tf.data to implement this functionality.\n"
     ]
    },
    {
     "name": "stdout",
     "output_type": "stream",
     "text": [
      "Extracting MNIST_data/train-images-idx3-ubyte.gz\n"
     ]
    },
    {
     "name": "stderr",
     "output_type": "stream",
     "text": [
      "W1009 12:19:46.434141 18392 deprecation.py:323] From C:\\Users\\sharma ji\\AppData\\Roaming\\Python\\Python37\\site-packages\\tensorflow\\contrib\\learn\\python\\learn\\datasets\\mnist.py:267: extract_labels (from tensorflow.contrib.learn.python.learn.datasets.mnist) is deprecated and will be removed in a future version.\n",
      "Instructions for updating:\n",
      "Please use tf.data to implement this functionality.\n",
      "W1009 12:19:46.437094 18392 deprecation.py:323] From C:\\Users\\sharma ji\\AppData\\Roaming\\Python\\Python37\\site-packages\\tensorflow\\contrib\\learn\\python\\learn\\datasets\\mnist.py:110: dense_to_one_hot (from tensorflow.contrib.learn.python.learn.datasets.mnist) is deprecated and will be removed in a future version.\n",
      "Instructions for updating:\n",
      "Please use tf.one_hot on tensors.\n",
      "W1009 12:19:46.505887 18392 deprecation.py:323] From C:\\Users\\sharma ji\\AppData\\Roaming\\Python\\Python37\\site-packages\\tensorflow\\contrib\\learn\\python\\learn\\datasets\\mnist.py:290: DataSet.__init__ (from tensorflow.contrib.learn.python.learn.datasets.mnist) is deprecated and will be removed in a future version.\n",
      "Instructions for updating:\n",
      "Please use alternatives such as official/mnist/dataset.py from tensorflow/models.\n"
     ]
    },
    {
     "name": "stdout",
     "output_type": "stream",
     "text": [
      "Extracting MNIST_data/train-labels-idx1-ubyte.gz\n",
      "Extracting MNIST_data/t10k-images-idx3-ubyte.gz\n",
      "Extracting MNIST_data/t10k-labels-idx1-ubyte.gz\n"
     ]
    }
   ],
   "source": [
    "mnist = input_data.read_data_sets('MNIST_data/',one_hot=True)"
   ]
  },
  {
   "cell_type": "markdown",
   "metadata": {},
   "source": [
    "## Creating necessary functions"
   ]
  },
  {
   "cell_type": "code",
   "execution_count": 3,
   "metadata": {},
   "outputs": [],
   "source": [
    "# input will be in format like [batch,height,width,color_channels]\n",
    "# weights will be in format like [filter height,filter width,channels_in,channels_out]\n",
    "\n",
    "def init_weights(shape):\n",
    "    w = tf.truncated_normal(shape=shape,stddev=0.1)\n",
    "    return tf.Variable(w)\n",
    "\n",
    "def init_biases(shape):\n",
    "    b = tf.constant(value=0.1,shape=shape)\n",
    "    return tf.Variable(b)\n",
    "\n",
    "def conv2d(input_image,W):\n",
    "    return tf.nn.conv2d(input_image,W,strides=[1,1,1,1],padding='SAME')\n",
    "\n",
    "def max_pool_2by2(input_layer):\n",
    "    return tf.nn.max_pool(value=input_layer,ksize=[1,2,2,1],strides=[1,2,2,1],padding='SAME')\n",
    "\n",
    "def convolution_layer(input_image,filter_shape):\n",
    "    weights = init_weights(filter_shape)\n",
    "    biases = init_biases([filter_shape[3]])\n",
    "    return tf.nn.relu(conv2d(input_image,weights) + biases)\n",
    "\n",
    "def normal_layer(inputs,no_of_nodes):\n",
    "    shape = int(inputs.get_shape()[1])\n",
    "    weights = init_weights([shape,no_of_nodes])\n",
    "    biases = init_biases([no_of_nodes])\n",
    "    return tf.matmul(inputs,weights) + biases"
   ]
  },
  {
   "cell_type": "markdown",
   "metadata": {},
   "source": [
    "## Creating placeholder to feed data in the nn"
   ]
  },
  {
   "cell_type": "code",
   "execution_count": 4,
   "metadata": {},
   "outputs": [],
   "source": [
    "x       = tf.placeholder(tf.float32,shape=[None,784])\n",
    "y_true  = tf.placeholder(tf.float32,shape=[None,10])\n",
    "input_image = tf.reshape(x,[-1,28,28,1]) "
   ]
  },
  {
   "cell_type": "markdown",
   "metadata": {},
   "source": [
    "## Creating layers "
   ]
  },
  {
   "cell_type": "code",
   "execution_count": 5,
   "metadata": {},
   "outputs": [
    {
     "name": "stderr",
     "output_type": "stream",
     "text": [
      "W1009 12:19:46.899137 18392 deprecation.py:506] From <ipython-input-5-924dba997d2a>:12: calling dropout (from tensorflow.python.ops.nn_ops) with keep_prob is deprecated and will be removed in a future version.\n",
      "Instructions for updating:\n",
      "Please use `rate` instead of `keep_prob`. Rate should be set to `rate = 1 - keep_prob`.\n"
     ]
    }
   ],
   "source": [
    "convo_1 = convolution_layer(input_image,[5,5,1,32])\n",
    "convo_1_pool = max_pool_2by2(convo_1)\n",
    "\n",
    "convo_2 = convolution_layer(convo_1_pool,[5,5,32,64])\n",
    "convo_2_pool = max_pool_2by2(convo_2)\n",
    "\n",
    "convo_2_flattened = tf.reshape(convo_2_pool,[-1,7*7*64])\n",
    "full_layer_one = tf.nn.relu(normal_layer(convo_2_flattened,1024))\n",
    "\n",
    "# Doing dropout\n",
    "hold_prob = tf.placeholder(tf.float32)\n",
    "full_layer_one_with_dropping = tf.nn.dropout(full_layer_one,hold_prob)\n"
   ]
  },
  {
   "cell_type": "code",
   "execution_count": 6,
   "metadata": {},
   "outputs": [],
   "source": [
    "y_pred = normal_layer(full_layer_one_with_dropping,10)"
   ]
  },
  {
   "cell_type": "markdown",
   "metadata": {},
   "source": [
    "## Loss Function"
   ]
  },
  {
   "cell_type": "code",
   "execution_count": 7,
   "metadata": {},
   "outputs": [
    {
     "name": "stderr",
     "output_type": "stream",
     "text": [
      "W1009 12:19:46.940994 18392 deprecation.py:323] From <ipython-input-7-62d7729af131>:1: softmax_cross_entropy_with_logits (from tensorflow.python.ops.nn_ops) is deprecated and will be removed in a future version.\n",
      "Instructions for updating:\n",
      "\n",
      "Future major versions of TensorFlow will allow gradients to flow\n",
      "into the labels input on backprop by default.\n",
      "\n",
      "See `tf.nn.softmax_cross_entropy_with_logits_v2`.\n",
      "\n"
     ]
    }
   ],
   "source": [
    "loss = tf.reduce_mean(tf.nn.softmax_cross_entropy_with_logits(labels=y_true,logits=y_pred))"
   ]
  },
  {
   "cell_type": "markdown",
   "metadata": {},
   "source": [
    "## Optimizer"
   ]
  },
  {
   "cell_type": "code",
   "execution_count": 8,
   "metadata": {},
   "outputs": [],
   "source": [
    "optimize = tf.train.AdamOptimizer(learning_rate=0.001).minimize(loss)"
   ]
  },
  {
   "cell_type": "code",
   "execution_count": 9,
   "metadata": {},
   "outputs": [],
   "source": [
    "initiliaze_variables = tf.global_variables_initializer()"
   ]
  },
  {
   "cell_type": "code",
   "execution_count": 10,
   "metadata": {},
   "outputs": [],
   "source": [
    "sess = tf.InteractiveSession()\n",
    "sess.run(initiliaze_variables)"
   ]
  },
  {
   "cell_type": "code",
   "execution_count": 11,
   "metadata": {},
   "outputs": [
    {
     "name": "stdout",
     "output_type": "stream",
     "text": [
      "On step: 0 accuracy is: \n",
      "0.1556\n",
      "On step: 100 accuracy is: \n",
      "0.9461\n",
      "On step: 200 accuracy is: \n",
      "0.9629\n",
      "On step: 300 accuracy is: \n",
      "0.97\n",
      "On step: 400 accuracy is: \n",
      "0.9764\n",
      "On step: 500 accuracy is: \n",
      "0.9777\n",
      "On step: 600 accuracy is: \n",
      "0.9775\n",
      "On step: 700 accuracy is: \n",
      "0.9823\n",
      "On step: 800 accuracy is: \n",
      "0.9818\n",
      "On step: 900 accuracy is: \n",
      "0.9825\n",
      "On step: 1000 accuracy is: \n",
      "0.9833\n",
      "On step: 1100 accuracy is: \n",
      "0.9861\n",
      "On step: 1200 accuracy is: \n",
      "0.9817\n",
      "On step: 1300 accuracy is: \n",
      "0.9849\n",
      "On step: 1400 accuracy is: \n",
      "0.98\n",
      "On step: 1500 accuracy is: \n",
      "0.986\n",
      "On step: 1600 accuracy is: \n",
      "0.9843\n",
      "On step: 1700 accuracy is: \n",
      "0.9869\n",
      "On step: 1800 accuracy is: \n",
      "0.9886\n",
      "On step: 1900 accuracy is: \n",
      "0.9873\n",
      "On step: 2000 accuracy is: \n",
      "0.9882\n",
      "On step: 2100 accuracy is: \n",
      "0.9865\n",
      "On step: 2200 accuracy is: \n",
      "0.985\n",
      "On step: 2300 accuracy is: \n",
      "0.9905\n",
      "On step: 2400 accuracy is: \n",
      "0.99\n",
      "On step: 2500 accuracy is: \n",
      "0.9899\n",
      "On step: 2600 accuracy is: \n",
      "0.9893\n",
      "On step: 2700 accuracy is: \n",
      "0.9875\n",
      "On step: 2800 accuracy is: \n",
      "0.9887\n",
      "On step: 2900 accuracy is: \n",
      "0.9898\n",
      "On step: 3000 accuracy is: \n",
      "0.9888\n",
      "On step: 3100 accuracy is: \n",
      "0.9865\n",
      "On step: 3200 accuracy is: \n",
      "0.9908\n",
      "On step: 3300 accuracy is: \n",
      "0.9877\n",
      "On step: 3400 accuracy is: \n",
      "0.9901\n",
      "On step: 3500 accuracy is: \n",
      "0.9892\n",
      "On step: 3600 accuracy is: \n",
      "0.9894\n",
      "On step: 3700 accuracy is: \n",
      "0.9893\n",
      "On step: 3800 accuracy is: \n",
      "0.9896\n",
      "On step: 3900 accuracy is: \n",
      "0.9868\n",
      "On step: 4000 accuracy is: \n",
      "0.9886\n",
      "On step: 4100 accuracy is: \n",
      "0.9907\n",
      "On step: 4200 accuracy is: \n",
      "0.9891\n",
      "On step: 4300 accuracy is: \n",
      "0.9907\n",
      "On step: 4400 accuracy is: \n",
      "0.9908\n",
      "On step: 4500 accuracy is: \n",
      "0.9912\n",
      "On step: 4600 accuracy is: \n",
      "0.9913\n",
      "On step: 4700 accuracy is: \n",
      "0.9912\n",
      "On step: 4800 accuracy is: \n",
      "0.988\n",
      "On step: 4900 accuracy is: \n",
      "0.9907\n"
     ]
    }
   ],
   "source": [
    "batch_size = 50\n",
    "for steps in range(5000):\n",
    "    input_batch,target_batch= mnist.train.next_batch(batch_size,shuffle=True)\n",
    "    sess.run([optimize],feed_dict={x:input_batch,y_true:target_batch,hold_prob:0.5})\n",
    "    matches = tf.equal(tf.argmax(y_pred,1),tf.argmax(y_true,1))\n",
    "    acc = tf.reduce_mean(tf.cast(matches,tf.float32))\n",
    "    \n",
    "    if steps%100==0:\n",
    "        print('On step: {}'.format(steps)+' accuracy is: ')\n",
    "        print(sess.run(acc,feed_dict={x:mnist.test.images,y_true:mnist.test.labels,hold_prob:1.0}))"
   ]
  },
  {
   "cell_type": "code",
   "execution_count": null,
   "metadata": {},
   "outputs": [],
   "source": []
  }
 ],
 "metadata": {
  "kernelspec": {
   "display_name": "Python 3",
   "language": "python",
   "name": "python3"
  },
  "language_info": {
   "codemirror_mode": {
    "name": "ipython",
    "version": 3
   },
   "file_extension": ".py",
   "mimetype": "text/x-python",
   "name": "python",
   "nbconvert_exporter": "python",
   "pygments_lexer": "ipython3",
   "version": "3.7.1"
  }
 },
 "nbformat": 4,
 "nbformat_minor": 2
}
