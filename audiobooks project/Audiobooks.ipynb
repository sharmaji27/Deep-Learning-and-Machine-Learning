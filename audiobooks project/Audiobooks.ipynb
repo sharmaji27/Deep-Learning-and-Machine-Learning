{
 "cells": [
  {
   "cell_type": "code",
   "execution_count": 1,
   "metadata": {},
   "outputs": [],
   "source": [
    "import numpy as np \n",
    "from sklearn import preprocessing\n",
    "\n",
    "raw_csv_data = np.loadtxt('Audiobooks_data.csv.csv' , delimiter=',')"
   ]
  },
  {
   "cell_type": "code",
   "execution_count": 2,
   "metadata": {},
   "outputs": [],
   "source": [
    "unscaled_input_all   = raw_csv_data[:,1:-1]\n",
    "targets_all = raw_csv_data[:,-1]"
   ]
  },
  {
   "cell_type": "code",
   "execution_count": 3,
   "metadata": {},
   "outputs": [],
   "source": [
    "no_of_zeros = 0\n",
    "no_of_ones = int(np.sum(targets_all))\n",
    "indices_to_remove = []\n",
    "\n",
    "for i in range (targets_all.shape[0]):\n",
    "    if targets_all[i]==0:\n",
    "        no_of_zeros+=1\n",
    "        if no_of_zeros>no_of_ones:\n",
    "            indices_to_remove.append(i)\n",
    "            \n",
    "unscaled_input_zero_and_ones_balanced = np.delete(unscaled_input_all,indices_to_remove,axis=0)\n",
    "targets_zero_and_ones_balanced = np.delete(targets_all,indices_to_remove,axis=0)"
   ]
  },
  {
   "cell_type": "code",
   "execution_count": 4,
   "metadata": {},
   "outputs": [],
   "source": [
    "scaled_inputs = preprocessing.scale(unscaled_input_zero_and_ones_balanced)"
   ]
  },
  {
   "cell_type": "code",
   "execution_count": 5,
   "metadata": {},
   "outputs": [
    {
     "name": "stdout",
     "output_type": "stream",
     "text": [
      "(4474, 10)\n",
      "(4474,)\n"
     ]
    }
   ],
   "source": [
    "shuffled_indices = np.arange(scaled_inputs.shape[0])\n",
    "np.random.shuffle(shuffled_indices)\n",
    "\n",
    "shuffled_data = scaled_inputs[shuffled_indices]\n",
    "shuffled_targets = targets_zero_and_ones_balanced[shuffled_indices]\n",
    "\n",
    "print(shuffled_data.shape)\n",
    "print(shuffled_targets.shape)"
   ]
  },
  {
   "cell_type": "code",
   "execution_count": 6,
   "metadata": {},
   "outputs": [],
   "source": [
    "no_of_samples = shuffled_data.shape[0]\n",
    "\n",
    "train_set_no = int(0.8*no_of_samples)\n",
    "validation_set_no = int(0.1*no_of_samples)\n",
    "test_set_no = no_of_samples-train_set_no-validation_set_no\n",
    "\n",
    "training_set_inputs = shuffled_data[:train_set_no]\n",
    "training_targets = shuffled_targets[:train_set_no]\n",
    "\n",
    "validation_data_inputs = shuffled_data[train_set_no:train_set_no+validation_set_no]\n",
    "validation_data_targets = shuffled_targets[train_set_no:train_set_no+validation_set_no]\n",
    "\n",
    "test_data_inputs = shuffled_data[train_set_no+validation_set_no:]\n",
    "test_data_targets = shuffled_targets[train_set_no+validation_set_no:]\n",
    "\n"
   ]
  },
  {
   "cell_type": "code",
   "execution_count": 7,
   "metadata": {},
   "outputs": [],
   "source": [
    "np.savez('Audiobooks_data_train',   inputs=training_set_inputs ,    targets=training_targets)\n",
    "np.savez('Audiobooks_data_validate',inputs=validation_data_inputs , targets=validation_data_targets)\n",
    "np.savez('Audiobooks_data_test',    inputs=test_data_inputs ,       targets=test_data_targets)"
   ]
  },
  {
   "cell_type": "code",
   "execution_count": 8,
   "metadata": {},
   "outputs": [],
   "source": [
    "#BATCHING"
   ]
  },
  {
   "cell_type": "code",
   "execution_count": 9,
   "metadata": {},
   "outputs": [],
   "source": [
    "class Audiobooks_Data_Batching():\n",
    "    \n",
    "    def __init__(self,dataset,batch_size=None):\n",
    "        npz = np.load('Audiobooks_data_{0}.npz'.format(dataset))\n",
    "        self.inputs  = npz['inputs'].astype(np.float) \n",
    "        self.targets = npz['targets'].astype(np.int)\n",
    "        \n",
    "        if batch_size==None:\n",
    "            self.batch_size = self.inputs.shape[0]\n",
    "        else:\n",
    "            self.batch_size = batch_size\n",
    "            \n",
    "        self.current_batch = 0\n",
    "        self.no_of_batches = self.inputs.shape[0]//self.batch_size\n",
    "        \n",
    "    def __next__(self):\n",
    "        \n",
    "        if self.current_batch >= self.no_of_batches:\n",
    "            self.current_batch = 0\n",
    "            raise StopIteration()\n",
    "            \n",
    "        batch_slice = slice(self.current_batch*self.batch_size,(self.current_batch + 1)*self.batch_size)\n",
    "        input_batch  = self.inputs[batch_slice] \n",
    "        target_batch = self.targets[batch_slice]\n",
    "        self.current_batch +=1\n",
    "        \n",
    "        classes_num = 2\n",
    "        targets_one_hot_encoded = np.zeros((target_batch.shape[0],classes_num))\n",
    "        targets_one_hot_encoded[range(target_batch.shape[0]),target_batch]=1\n",
    "        \n",
    "        return input_batch,targets_one_hot_encoded\n",
    "    \n",
    "    def __iter__(self):\n",
    "        return self"
   ]
  },
  {
   "cell_type": "code",
   "execution_count": 10,
   "metadata": {
    "scrolled": false
   },
   "outputs": [
    {
     "name": "stderr",
     "output_type": "stream",
     "text": [
      "C:\\Users\\sharma ji\\AppData\\Roaming\\Python\\Python37\\site-packages\\tensorflow\\python\\framework\\dtypes.py:516: FutureWarning: Passing (type, 1) or '1type' as a synonym of type is deprecated; in a future version of numpy, it will be understood as (type, (1,)) / '(1,)type'.\n",
      "  _np_qint8 = np.dtype([(\"qint8\", np.int8, 1)])\n",
      "C:\\Users\\sharma ji\\AppData\\Roaming\\Python\\Python37\\site-packages\\tensorflow\\python\\framework\\dtypes.py:517: FutureWarning: Passing (type, 1) or '1type' as a synonym of type is deprecated; in a future version of numpy, it will be understood as (type, (1,)) / '(1,)type'.\n",
      "  _np_quint8 = np.dtype([(\"quint8\", np.uint8, 1)])\n",
      "C:\\Users\\sharma ji\\AppData\\Roaming\\Python\\Python37\\site-packages\\tensorflow\\python\\framework\\dtypes.py:518: FutureWarning: Passing (type, 1) or '1type' as a synonym of type is deprecated; in a future version of numpy, it will be understood as (type, (1,)) / '(1,)type'.\n",
      "  _np_qint16 = np.dtype([(\"qint16\", np.int16, 1)])\n",
      "C:\\Users\\sharma ji\\AppData\\Roaming\\Python\\Python37\\site-packages\\tensorflow\\python\\framework\\dtypes.py:519: FutureWarning: Passing (type, 1) or '1type' as a synonym of type is deprecated; in a future version of numpy, it will be understood as (type, (1,)) / '(1,)type'.\n",
      "  _np_quint16 = np.dtype([(\"quint16\", np.uint16, 1)])\n",
      "C:\\Users\\sharma ji\\AppData\\Roaming\\Python\\Python37\\site-packages\\tensorflow\\python\\framework\\dtypes.py:520: FutureWarning: Passing (type, 1) or '1type' as a synonym of type is deprecated; in a future version of numpy, it will be understood as (type, (1,)) / '(1,)type'.\n",
      "  _np_qint32 = np.dtype([(\"qint32\", np.int32, 1)])\n",
      "C:\\Users\\sharma ji\\AppData\\Roaming\\Python\\Python37\\site-packages\\tensorflow\\python\\framework\\dtypes.py:525: FutureWarning: Passing (type, 1) or '1type' as a synonym of type is deprecated; in a future version of numpy, it will be understood as (type, (1,)) / '(1,)type'.\n",
      "  np_resource = np.dtype([(\"resource\", np.ubyte, 1)])\n",
      "C:\\ProgramData\\Anaconda3\\lib\\site-packages\\requests\\__init__.py:91: RequestsDependencyWarning: urllib3 (1.25.3) or chardet (3.0.4) doesn't match a supported version!\n",
      "  RequestsDependencyWarning)\n",
      "C:\\Users\\sharma ji\\AppData\\Roaming\\Python\\Python37\\site-packages\\tensorboard\\compat\\tensorflow_stub\\dtypes.py:541: FutureWarning: Passing (type, 1) or '1type' as a synonym of type is deprecated; in a future version of numpy, it will be understood as (type, (1,)) / '(1,)type'.\n",
      "  _np_qint8 = np.dtype([(\"qint8\", np.int8, 1)])\n",
      "C:\\Users\\sharma ji\\AppData\\Roaming\\Python\\Python37\\site-packages\\tensorboard\\compat\\tensorflow_stub\\dtypes.py:542: FutureWarning: Passing (type, 1) or '1type' as a synonym of type is deprecated; in a future version of numpy, it will be understood as (type, (1,)) / '(1,)type'.\n",
      "  _np_quint8 = np.dtype([(\"quint8\", np.uint8, 1)])\n",
      "C:\\Users\\sharma ji\\AppData\\Roaming\\Python\\Python37\\site-packages\\tensorboard\\compat\\tensorflow_stub\\dtypes.py:543: FutureWarning: Passing (type, 1) or '1type' as a synonym of type is deprecated; in a future version of numpy, it will be understood as (type, (1,)) / '(1,)type'.\n",
      "  _np_qint16 = np.dtype([(\"qint16\", np.int16, 1)])\n",
      "C:\\Users\\sharma ji\\AppData\\Roaming\\Python\\Python37\\site-packages\\tensorboard\\compat\\tensorflow_stub\\dtypes.py:544: FutureWarning: Passing (type, 1) or '1type' as a synonym of type is deprecated; in a future version of numpy, it will be understood as (type, (1,)) / '(1,)type'.\n",
      "  _np_quint16 = np.dtype([(\"quint16\", np.uint16, 1)])\n",
      "C:\\Users\\sharma ji\\AppData\\Roaming\\Python\\Python37\\site-packages\\tensorboard\\compat\\tensorflow_stub\\dtypes.py:545: FutureWarning: Passing (type, 1) or '1type' as a synonym of type is deprecated; in a future version of numpy, it will be understood as (type, (1,)) / '(1,)type'.\n",
      "  _np_qint32 = np.dtype([(\"qint32\", np.int32, 1)])\n",
      "C:\\Users\\sharma ji\\AppData\\Roaming\\Python\\Python37\\site-packages\\tensorboard\\compat\\tensorflow_stub\\dtypes.py:550: FutureWarning: Passing (type, 1) or '1type' as a synonym of type is deprecated; in a future version of numpy, it will be understood as (type, (1,)) / '(1,)type'.\n",
      "  np_resource = np.dtype([(\"resource\", np.ubyte, 1)])\n",
      "WARNING: Logging before flag parsing goes to stderr.\n",
      "W1005 12:57:48.950674 21788 deprecation.py:506] From C:\\Users\\sharma ji\\AppData\\Roaming\\Python\\Python37\\site-packages\\tensorflow\\python\\ops\\init_ops.py:1251: calling VarianceScaling.__init__ (from tensorflow.python.ops.init_ops) with dtype is deprecated and will be removed in a future version.\n",
      "Instructions for updating:\n",
      "Call initializer instance with the dtype argument instead of passing it to the constructor\n",
      "W1005 12:57:49.014708 21788 deprecation.py:323] From <ipython-input-10-f72cff7e442b>:26: softmax_cross_entropy_with_logits (from tensorflow.python.ops.nn_ops) is deprecated and will be removed in a future version.\n",
      "Instructions for updating:\n",
      "\n",
      "Future major versions of TensorFlow will allow gradients to flow\n",
      "into the labels input on backprop by default.\n",
      "\n",
      "See `tf.nn.softmax_cross_entropy_with_logits_v2`.\n",
      "\n",
      "W1005 12:57:49.174707 21788 deprecation.py:323] From <ipython-input-10-f72cff7e442b>:30: arg_max (from tensorflow.python.ops.gen_math_ops) is deprecated and will be removed in a future version.\n",
      "Instructions for updating:\n",
      "Use `tf.math.argmax` instead\n"
     ]
    },
    {
     "name": "stdout",
     "output_type": "stream",
     "text": [
      "Epoch : 1 Training Loss : 0.470 Validation Loss : 0.538 Validation Accuracy : 72.036%\n",
      "Epoch : 2 Training Loss : 0.340 Validation Loss : 0.462 Validation Accuracy : 75.615%\n",
      "Epoch : 3 Training Loss : 0.299 Validation Loss : 0.420 Validation Accuracy : 79.195%\n",
      "Epoch : 4 Training Loss : 0.280 Validation Loss : 0.393 Validation Accuracy : 80.313%\n",
      "Epoch : 5 Training Loss : 0.268 Validation Loss : 0.377 Validation Accuracy : 80.761%\n",
      "Epoch : 6 Training Loss : 0.261 Validation Loss : 0.365 Validation Accuracy : 81.208%\n",
      "Epoch : 7 Training Loss : 0.255 Validation Loss : 0.357 Validation Accuracy : 81.879%\n",
      "Epoch : 8 Training Loss : 0.252 Validation Loss : 0.350 Validation Accuracy : 82.103%\n",
      "Epoch : 9 Training Loss : 0.248 Validation Loss : 0.346 Validation Accuracy : 82.103%\n",
      "Epoch : 10 Training Loss : 0.246 Validation Loss : 0.341 Validation Accuracy : 82.550%\n",
      "Epoch : 11 Training Loss : 0.244 Validation Loss : 0.338 Validation Accuracy : 83.221%\n",
      "Epoch : 12 Training Loss : 0.242 Validation Loss : 0.336 Validation Accuracy : 82.550%\n",
      "Epoch : 13 Training Loss : 0.240 Validation Loss : 0.334 Validation Accuracy : 82.550%\n",
      "Epoch : 14 Training Loss : 0.239 Validation Loss : 0.332 Validation Accuracy : 82.327%\n",
      "Epoch : 15 Training Loss : 0.238 Validation Loss : 0.330 Validation Accuracy : 82.774%\n",
      "Epoch : 16 Training Loss : 0.237 Validation Loss : 0.328 Validation Accuracy : 82.998%\n",
      "Epoch : 17 Training Loss : 0.236 Validation Loss : 0.327 Validation Accuracy : 83.221%\n",
      "Epoch : 18 Training Loss : 0.235 Validation Loss : 0.326 Validation Accuracy : 82.774%\n",
      "Epoch : 19 Training Loss : 0.234 Validation Loss : 0.325 Validation Accuracy : 82.550%\n",
      "Epoch : 20 Training Loss : 0.233 Validation Loss : 0.324 Validation Accuracy : 82.774%\n",
      "Epoch : 21 Training Loss : 0.232 Validation Loss : 0.323 Validation Accuracy : 82.774%\n",
      "Epoch : 22 Training Loss : 0.232 Validation Loss : 0.322 Validation Accuracy : 82.998%\n",
      "Epoch : 23 Training Loss : 0.231 Validation Loss : 0.320 Validation Accuracy : 83.669%\n",
      "Epoch : 24 Training Loss : 0.231 Validation Loss : 0.320 Validation Accuracy : 83.221%\n",
      "Epoch : 25 Training Loss : 0.230 Validation Loss : 0.319 Validation Accuracy : 83.445%\n",
      "Epoch : 26 Training Loss : 0.230 Validation Loss : 0.318 Validation Accuracy : 83.669%\n",
      "Epoch : 27 Training Loss : 0.229 Validation Loss : 0.317 Validation Accuracy : 83.669%\n",
      "Epoch : 28 Training Loss : 0.229 Validation Loss : 0.317 Validation Accuracy : 83.669%\n",
      "Epoch : 29 Training Loss : 0.228 Validation Loss : 0.316 Validation Accuracy : 83.445%\n",
      "Epoch : 30 Training Loss : 0.228 Validation Loss : 0.315 Validation Accuracy : 83.221%\n",
      "Epoch : 31 Training Loss : 0.228 Validation Loss : 0.315 Validation Accuracy : 83.221%\n",
      "End of training !!!\n"
     ]
    }
   ],
   "source": [
    "import tensorflow as tf\n",
    "\n",
    "input_size=10\n",
    "hidden_layer_size=50\n",
    "output_size=2\n",
    "\n",
    "tf.reset_default_graph()\n",
    "\n",
    "inputs = tf.placeholder(tf.float32,[None,input_size])\n",
    "targets = tf.placeholder(tf.int32,[None,output_size])\n",
    "\n",
    "weights_1 = tf.get_variable('weights_1',[input_size,hidden_layer_size])\n",
    "biases_1  = tf.get_variable('biases_1',[hidden_layer_size])\n",
    "outputs_1 = tf.nn.relu(tf.matmul(inputs,weights_1)+biases_1)\n",
    "\n",
    "weights_2 = tf.get_variable('weights_2',[hidden_layer_size,hidden_layer_size])\n",
    "biases_2  = tf.get_variable('biases_2',[hidden_layer_size])\n",
    "outputs_2 = tf.nn.relu(tf.matmul(outputs_1,weights_2)+biases_2)\n",
    "\n",
    "\n",
    "weights_3 = tf.get_variable('weights_3',[hidden_layer_size,output_size])\n",
    "biases_3  = tf.get_variable('biases_3',[output_size])\n",
    "output = tf.matmul(outputs_2,weights_3)+biases_3\n",
    "\n",
    "\n",
    "loss = tf.nn.softmax_cross_entropy_with_logits(logits=output , labels=targets)\n",
    "mean_loss = tf.reduce_mean(loss)\n",
    "optimizer = tf.train.AdamOptimizer(learning_rate=0.001).minimize(mean_loss)\n",
    "\n",
    "output_equals_target = tf.equal(tf.arg_max(output,1),tf.arg_max(targets,1))\n",
    "accuracy = tf.reduce_mean(tf.cast(output_equals_target,tf.float32))\n",
    "\n",
    "sess = tf.InteractiveSession()\n",
    "initializer = tf.global_variables_initializer()\n",
    "sess.run(initializer)\n",
    "\n",
    "batch_size = 100\n",
    "\n",
    "prev_validation_loss = 9999999.\n",
    "\n",
    "max_epochs = 50\n",
    "\n",
    "train_data = Audiobooks_Data_Batching('train',batch_size)\n",
    "validation_data = Audiobooks_Data_Batching('validation')\n",
    "\n",
    "\n",
    "for e in range(max_epochs):\n",
    "    total_loss = 0.\n",
    "    \n",
    "    for input_data,target_data in train_data:\n",
    "        _,batch_loss = sess.run([optimizer,mean_loss],\n",
    "                              feed_dict={inputs:input_data,targets:target_data})\n",
    "        total_loss+=batch_loss\n",
    "    average_training_loss = total_loss/max_epochs\n",
    "    \n",
    "    validation_loss=0.\n",
    "    validation_accuracy=0.\n",
    "    \n",
    "    for input_data,target_data in validation_data:\n",
    "        validation_loss,validation_accuracy = sess.run([mean_loss,accuracy],\n",
    "                              feed_dict={inputs:input_data,targets:target_data})\n",
    "    \n",
    "    print('Epoch : '+str(e+1)+\n",
    "              ' Training Loss : '+'{0:.3f}'.format(average_training_loss)+\n",
    "              ' Validation Loss : '+'{0:.3f}'.format(validation_loss)+\n",
    "              ' Validation Accuracy : '+'{0:.3f}%'.format(validation_accuracy*100.))\n",
    "    \n",
    "    \n",
    "    if validation_loss > prev_validation_loss:\n",
    "        break\n",
    "    prev_validation_loss = validation_loss     \n",
    "\n",
    "print('End of training !!!')        "
   ]
  },
  {
   "cell_type": "code",
   "execution_count": 15,
   "metadata": {},
   "outputs": [
    {
     "name": "stdout",
     "output_type": "stream",
     "text": [
      "Test accuracy is 83.259%\n"
     ]
    }
   ],
   "source": [
    "#TESTING\n",
    "test_data = Audiobooks_Data_Batching('test')\n",
    "\n",
    "for input_data,target_data in test_data:\n",
    "    acc = sess.run([accuracy],\n",
    "                   feed_dict={inputs:input_data,targets:target_data})\n",
    "\n",
    "print('Test accuracy is {0:.3f}%'.format(acc[0]*100))"
   ]
  },
  {
   "cell_type": "code",
   "execution_count": null,
   "metadata": {},
   "outputs": [],
   "source": []
  }
 ],
 "metadata": {
  "kernelspec": {
   "display_name": "Python 3",
   "language": "python",
   "name": "python3"
  },
  "language_info": {
   "codemirror_mode": {
    "name": "ipython",
    "version": 3
   },
   "file_extension": ".py",
   "mimetype": "text/x-python",
   "name": "python",
   "nbconvert_exporter": "python",
   "pygments_lexer": "ipython3",
   "version": "3.7.1"
  }
 },
 "nbformat": 4,
 "nbformat_minor": 2
}
