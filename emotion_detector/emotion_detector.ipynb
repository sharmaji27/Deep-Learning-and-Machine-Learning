{
 "cells": [
  {
   "cell_type": "code",
   "execution_count": 22,
   "metadata": {},
   "outputs": [],
   "source": [
    "from keras.preprocessing.image import ImageDataGenerator\n",
    "from keras.layers import Dense,Dropout,Activation,Conv2D,MaxPooling2D,BatchNormalization,Flatten\n",
    "from keras.models import Sequential\n",
    "from keras.optimizers import RMSprop\n",
    "from keras.callbacks import EarlyStopping,ReduceLROnPlateau,ModelCheckpoint\n",
    "from keras.models import load_model\n",
    "import cv2\n",
    "from PIL import Image\n",
    "import numpy as np"
   ]
  },
  {
   "cell_type": "code",
   "execution_count": 2,
   "metadata": {},
   "outputs": [
    {
     "name": "stdout",
     "output_type": "stream",
     "text": [
      "Found 28273 images belonging to 6 classes.\n",
      "Found 3534 images belonging to 6 classes.\n"
     ]
    }
   ],
   "source": [
    "batch_size= 32\n",
    "classes = 6\n",
    "rows,columns=48,48\n",
    "\n",
    "train_dir = 'fer2013\\\\train' \n",
    "validation_dir = 'fer2013\\\\validation'\n",
    "\n",
    "train_gen = ImageDataGenerator(rescale=1./255,\n",
    "                              rotation_range=45,\n",
    "                              height_shift_range=0.3,\n",
    "                              width_shift_range=0.3,\n",
    "                              shear_range=0.2,\n",
    "                              horizontal_flip=True,\n",
    "                              fill_mode='nearest')\n",
    "\n",
    "validation_gen = ImageDataGenerator(rescale=1./255)\n",
    "\n",
    "training_data_generator = train_gen.flow_from_directory(train_dir,\n",
    "                                                       batch_size=batch_size,\n",
    "                                                       shuffle=True,\n",
    "                                                       color_mode='grayscale',\n",
    "                                                       class_mode='categorical',\n",
    "                                                       target_size=(rows,columns))\n",
    "\n",
    "valiadtion_data_generator = validation_gen.flow_from_directory(validation_dir,\n",
    "                                                       batch_size=batch_size,\n",
    "                                                       shuffle=False,\n",
    "                                                       color_mode='grayscale',\n",
    "                                                       class_mode='categorical',\n",
    "                                                       target_size=(rows,columns))\n",
    "\n",
    "\n"
   ]
  },
  {
   "cell_type": "markdown",
   "metadata": {},
   "source": [
    "## Creating Our Model"
   ]
  },
  {
   "cell_type": "code",
   "execution_count": 3,
   "metadata": {},
   "outputs": [
    {
     "name": "stderr",
     "output_type": "stream",
     "text": [
      "WARNING: Logging before flag parsing goes to stderr.\n",
      "W1114 19:11:53.931808  9912 deprecation_wrapper.py:119] From C:\\Users\\sharma ji\\AppData\\Roaming\\Python\\Python37\\site-packages\\keras\\backend\\tensorflow_backend.py:4070: The name tf.nn.max_pool is deprecated. Please use tf.nn.max_pool2d instead.\n",
      "\n"
     ]
    },
    {
     "name": "stdout",
     "output_type": "stream",
     "text": [
      "Model: \"sequential_1\"\n",
      "_________________________________________________________________\n",
      "Layer (type)                 Output Shape              Param #   \n",
      "=================================================================\n",
      "conv2d_1 (Conv2D)            (None, 48, 48, 64)        640       \n",
      "_________________________________________________________________\n",
      "batch_normalization_1 (Batch (None, 48, 48, 64)        256       \n",
      "_________________________________________________________________\n",
      "conv2d_2 (Conv2D)            (None, 48, 48, 64)        36928     \n",
      "_________________________________________________________________\n",
      "batch_normalization_2 (Batch (None, 48, 48, 64)        256       \n",
      "_________________________________________________________________\n",
      "max_pooling2d_1 (MaxPooling2 (None, 24, 24, 64)        0         \n",
      "_________________________________________________________________\n",
      "dropout_1 (Dropout)          (None, 24, 24, 64)        0         \n",
      "_________________________________________________________________\n",
      "conv2d_3 (Conv2D)            (None, 24, 24, 128)       73856     \n",
      "_________________________________________________________________\n",
      "batch_normalization_3 (Batch (None, 24, 24, 128)       512       \n",
      "_________________________________________________________________\n",
      "conv2d_4 (Conv2D)            (None, 24, 24, 128)       147584    \n",
      "_________________________________________________________________\n",
      "batch_normalization_4 (Batch (None, 24, 24, 128)       512       \n",
      "_________________________________________________________________\n",
      "max_pooling2d_2 (MaxPooling2 (None, 12, 12, 128)       0         \n",
      "_________________________________________________________________\n",
      "dropout_2 (Dropout)          (None, 12, 12, 128)       0         \n",
      "_________________________________________________________________\n",
      "conv2d_5 (Conv2D)            (None, 12, 12, 256)       295168    \n",
      "_________________________________________________________________\n",
      "batch_normalization_5 (Batch (None, 12, 12, 256)       1024      \n",
      "_________________________________________________________________\n",
      "conv2d_6 (Conv2D)            (None, 12, 12, 256)       590080    \n",
      "_________________________________________________________________\n",
      "batch_normalization_6 (Batch (None, 12, 12, 256)       1024      \n",
      "_________________________________________________________________\n",
      "max_pooling2d_3 (MaxPooling2 (None, 6, 6, 256)         0         \n",
      "_________________________________________________________________\n",
      "dropout_3 (Dropout)          (None, 6, 6, 256)         0         \n",
      "_________________________________________________________________\n",
      "conv2d_7 (Conv2D)            (None, 6, 6, 512)         1180160   \n",
      "_________________________________________________________________\n",
      "batch_normalization_7 (Batch (None, 6, 6, 512)         2048      \n",
      "_________________________________________________________________\n",
      "conv2d_8 (Conv2D)            (None, 6, 6, 512)         2359808   \n",
      "_________________________________________________________________\n",
      "batch_normalization_8 (Batch (None, 6, 6, 512)         2048      \n",
      "_________________________________________________________________\n",
      "max_pooling2d_4 (MaxPooling2 (None, 3, 3, 512)         0         \n",
      "_________________________________________________________________\n",
      "dropout_4 (Dropout)          (None, 3, 3, 512)         0         \n",
      "_________________________________________________________________\n",
      "flatten_1 (Flatten)          (None, 4608)              0         \n",
      "_________________________________________________________________\n",
      "dense_1 (Dense)              (None, 256)               1179904   \n",
      "_________________________________________________________________\n",
      "batch_normalization_9 (Batch (None, 256)               1024      \n",
      "_________________________________________________________________\n",
      "dropout_5 (Dropout)          (None, 256)               0         \n",
      "_________________________________________________________________\n",
      "dense_2 (Dense)              (None, 128)               32896     \n",
      "_________________________________________________________________\n",
      "batch_normalization_10 (Batc (None, 128)               512       \n",
      "_________________________________________________________________\n",
      "dropout_6 (Dropout)          (None, 128)               0         \n",
      "_________________________________________________________________\n",
      "dense_3 (Dense)              (None, 64)                8256      \n",
      "_________________________________________________________________\n",
      "batch_normalization_11 (Batc (None, 64)                256       \n",
      "_________________________________________________________________\n",
      "dropout_7 (Dropout)          (None, 64)                0         \n",
      "_________________________________________________________________\n",
      "dense_4 (Dense)              (None, 6)                 390       \n",
      "=================================================================\n",
      "Total params: 5,915,142\n",
      "Trainable params: 5,910,406\n",
      "Non-trainable params: 4,736\n",
      "_________________________________________________________________\n",
      "None\n"
     ]
    }
   ],
   "source": [
    "model = Sequential()\n",
    "\n",
    "# First Block\n",
    "model.add(Conv2D(64,(3,3),activation='elu',input_shape=(rows,columns,1),kernel_initializer='he_normal',padding='same'))\n",
    "model.add(BatchNormalization())\n",
    "model.add(Conv2D(64,(3,3),activation='elu',input_shape=(rows,columns,1),kernel_initializer='he_normal',padding='same'))\n",
    "model.add(BatchNormalization())\n",
    "model.add(MaxPooling2D(pool_size=(2,2)))\n",
    "model.add(Dropout(0.2))\n",
    "\n",
    "# Second Block\n",
    "model.add(Conv2D(128,(3,3),activation='elu',kernel_initializer='he_normal',padding='same'))\n",
    "model.add(BatchNormalization())\n",
    "model.add(Conv2D(128,(3,3),activation='elu',kernel_initializer='he_normal',padding='same'))\n",
    "model.add(BatchNormalization())\n",
    "model.add(MaxPooling2D(pool_size=(2,2)))\n",
    "model.add(Dropout(0.2))\n",
    "\n",
    "# Third Block\n",
    "model.add(Conv2D(256,(3,3),activation='elu',kernel_initializer='he_normal',padding='same'))\n",
    "model.add(BatchNormalization())\n",
    "model.add(Conv2D(256,(3,3),activation='elu',kernel_initializer='he_normal',padding='same'))\n",
    "model.add(BatchNormalization())\n",
    "model.add(MaxPooling2D(pool_size=(2,2)))\n",
    "model.add(Dropout(0.2))\n",
    "\n",
    "# Fourth Block\n",
    "model.add(Conv2D(512,(3,3),activation='elu',kernel_initializer='he_normal',padding='same'))\n",
    "model.add(BatchNormalization())\n",
    "model.add(Conv2D(512,(3,3),activation='elu',kernel_initializer='he_normal',padding='same'))\n",
    "model.add(BatchNormalization())\n",
    "model.add(MaxPooling2D(pool_size=(2,2)))\n",
    "model.add(Dropout(0.2))\n",
    "\n",
    "# Fifth Block\n",
    "model.add(Flatten())\n",
    "model.add(Dense(256,activation='elu',kernel_initializer='he_normal'))\n",
    "model.add(BatchNormalization())\n",
    "model.add(Dropout(0.5))\n",
    "\n",
    "# Sixth Block\n",
    "model.add(Dense(128,activation='elu',kernel_initializer='he_normal'))\n",
    "model.add(BatchNormalization())\n",
    "model.add(Dropout(0.5))\n",
    "\n",
    "# Seventh Block\n",
    "model.add(Dense(64,activation='elu',kernel_initializer='he_normal'))\n",
    "model.add(BatchNormalization())\n",
    "model.add(Dropout(0.5))\n",
    "\n",
    "# Eighth Block\n",
    "model.add(Dense(classes,activation='softmax',kernel_initializer='he_normal'))\n",
    "\n",
    "print(model.summary())"
   ]
  },
  {
   "cell_type": "code",
   "execution_count": 53,
   "metadata": {},
   "outputs": [],
   "source": [
    "checkpoint = ModelCheckpoint('model\\\\6_class_emotion_detector_V1.h5',\n",
    "                             save_best_only=True,\n",
    "                             mode='min',\n",
    "                             monitor='val_loss',\n",
    "                             verbose=1)\n",
    "\n",
    "earlystopping = EarlyStopping(patience=3,\n",
    "                             verbose=1,\n",
    "                             min_delta=0,\n",
    "                             monitor='val_loss',\n",
    "                             restore_best_weights=True)\n",
    "\n",
    "reduce_lr = ReduceLROnPlateau(monitor='val_loss',\n",
    "                              factor=0.2,\n",
    "                              verbose=1,\n",
    "                              min_delta=0.0001,\n",
    "                              patience=3)\n",
    "\n",
    "callbacks = [checkpoint,earlystopping,reduce_lr]\n",
    "\n",
    "model.compile(metrics=['accuracy'],\n",
    "             optimizer=RMSprop(lr=0.0001),\n",
    "             loss='categorical_crossentropy')\n",
    "\n",
    "train_samples = 28273\n",
    "validation_samples = 3534\n",
    "batch_size = 32\n",
    "epochs=30"
   ]
  },
  {
   "cell_type": "markdown",
   "metadata": {},
   "source": [
    "# Training Our Model"
   ]
  },
  {
   "cell_type": "code",
   "execution_count": 6,
   "metadata": {
    "scrolled": true
   },
   "outputs": [
    {
     "name": "stdout",
     "output_type": "stream",
     "text": [
      "Epoch 1/30\n",
      "883/883 [==============================] - 1354s 2s/step - loss: 2.2646 - accuracy: 0.1920 - val_loss: 1.9375 - val_accuracy: 0.2565\n",
      "\n",
      "Epoch 00001: val_loss did not improve from 1.88453\n",
      "Epoch 2/30\n",
      "883/883 [==============================] - 1356s 2s/step - loss: 2.0995 - accuracy: 0.1982 - val_loss: 1.9575 - val_accuracy: 0.2601\n",
      "\n",
      "Epoch 00002: val_loss did not improve from 1.88453\n",
      "Epoch 3/30\n",
      "883/883 [==============================] - 1314s 1s/step - loss: 1.9995 - accuracy: 0.2014 - val_loss: 1.7097 - val_accuracy: 0.2587\n",
      "\n",
      "Epoch 00003: val_loss improved from 1.88453 to 1.70970, saving model to model\\6_class_emotion_detector_V1.h5\n",
      "Epoch 4/30\n",
      "883/883 [==============================] - 1362s 2s/step - loss: 1.9202 - accuracy: 0.2097 - val_loss: 1.5180 - val_accuracy: 0.2670\n",
      "\n",
      "Epoch 00004: val_loss improved from 1.70970 to 1.51798, saving model to model\\6_class_emotion_detector_V1.h5\n",
      "Epoch 5/30\n",
      "883/883 [==============================] - 1383s 2s/step - loss: 1.8634 - accuracy: 0.2169 - val_loss: 2.0140 - val_accuracy: 0.2716\n",
      "\n",
      "Epoch 00005: val_loss did not improve from 1.51798\n",
      "Epoch 6/30\n",
      "883/883 [==============================] - 1379s 2s/step - loss: 1.8177 - accuracy: 0.2269 - val_loss: 2.0073 - val_accuracy: 0.2758\n",
      "\n",
      "Epoch 00006: val_loss did not improve from 1.51798\n",
      "Epoch 7/30\n",
      "883/883 [==============================] - 1382s 2s/step - loss: 1.7706 - accuracy: 0.2477 - val_loss: 1.3090 - val_accuracy: 0.3158\n",
      "\n",
      "Epoch 00007: val_loss improved from 1.51798 to 1.30897, saving model to model\\6_class_emotion_detector_V1.h5\n",
      "Epoch 8/30\n",
      "883/883 [==============================] - 1390s 2s/step - loss: 1.7118 - accuracy: 0.2820 - val_loss: 1.1005 - val_accuracy: 0.3287\n",
      "\n",
      "Epoch 00008: val_loss improved from 1.30897 to 1.10048, saving model to model\\6_class_emotion_detector_V1.h5\n",
      "Epoch 9/30\n",
      "883/883 [==============================] - 2519s 3s/step - loss: 1.6397 - accuracy: 0.3225 - val_loss: 0.7319 - val_accuracy: 0.3649\n",
      "\n",
      "Epoch 00009: val_loss improved from 1.10048 to 0.73193, saving model to model\\6_class_emotion_detector_V1.h5\n",
      "Epoch 10/30\n",
      "883/883 [==============================] - 1607s 2s/step - loss: 1.5686 - accuracy: 0.3616 - val_loss: 0.7590 - val_accuracy: 0.3869\n",
      "\n",
      "Epoch 00010: val_loss did not improve from 0.73193\n",
      "Epoch 11/30\n",
      "883/883 [==============================] - 1604s 2s/step - loss: 1.5059 - accuracy: 0.3982 - val_loss: 0.7136 - val_accuracy: 0.3886\n",
      "\n",
      "Epoch 00011: val_loss improved from 0.73193 to 0.71359, saving model to model\\6_class_emotion_detector_V1.h5\n",
      "Epoch 12/30\n",
      "883/883 [==============================] - 32372s 37s/step - loss: 1.4618 - accuracy: 0.4146 - val_loss: 0.6835 - val_accuracy: 0.4360\n",
      "\n",
      "Epoch 00012: val_loss improved from 0.71359 to 0.68345, saving model to model\\6_class_emotion_detector_V1.h5\n",
      "Epoch 13/30\n",
      "883/883 [==============================] - 1850s 2s/step - loss: 1.4199 - accuracy: 0.4367 - val_loss: 1.2361 - val_accuracy: 0.4226\n",
      "\n",
      "Epoch 00013: val_loss did not improve from 0.68345\n",
      "Epoch 14/30\n",
      "883/883 [==============================] - 1465s 2s/step - loss: 1.3889 - accuracy: 0.4521 - val_loss: 1.2905 - val_accuracy: 0.4617\n",
      "\n",
      "Epoch 00014: val_loss did not improve from 0.68345\n",
      "Epoch 15/30\n",
      "883/883 [==============================] - 1433s 2s/step - loss: 1.3580 - accuracy: 0.4611 - val_loss: 1.7897 - val_accuracy: 0.4340\n",
      "\n",
      "Epoch 00015: val_loss did not improve from 0.68345\n",
      "Restoring model weights from the end of the best epoch\n",
      "\n",
      "Epoch 00015: ReduceLROnPlateau reducing learning rate to 1.9999999494757503e-05.\n",
      "Epoch 00015: early stopping\n"
     ]
    }
   ],
   "source": [
    "history = model.fit_generator(training_data_generator,\n",
    "                              epochs=epochs,\n",
    "                              steps_per_epoch=train_samples//batch_size,\n",
    "                              validation_data=valiadtion_data_generator,\n",
    "                              validation_steps=validation_samples//batch_size,\n",
    "                              callbacks=callbacks)"
   ]
  },
  {
   "cell_type": "code",
   "execution_count": 52,
   "metadata": {},
   "outputs": [],
   "source": [
    "model = load_model('model\\\\6_class_emotion_detector_V1.h5')\n"
   ]
  },
  {
   "cell_type": "markdown",
   "metadata": {},
   "source": [
    "# Live Predictor"
   ]
  },
  {
   "cell_type": "code",
   "execution_count": 76,
   "metadata": {
    "scrolled": true
   },
   "outputs": [
    {
     "name": "stderr",
     "output_type": "stream",
     "text": [
      "C:\\ProgramData\\Anaconda3\\lib\\site-packages\\ipykernel_launcher.py:9: DeprecationWarning: elementwise comparison failed; this will raise an error in the future.\n",
      "  if __name__ == '__main__':\n"
     ]
    },
    {
     "name": "stdout",
     "output_type": "stream",
     "text": [
      "Happy\n",
      "Happy\n",
      "Happy\n",
      "Happy\n",
      "Happy\n",
      "Happy\n",
      "Happy\n",
      "Happy\n",
      "Happy\n",
      "Happy\n",
      "Happy\n",
      "Happy\n",
      "Happy\n",
      "Happy\n",
      "Happy\n",
      "Happy\n",
      "Happy\n",
      "Happy\n",
      "Happy\n",
      "Happy\n",
      "Happy\n",
      "Happy\n"
     ]
    }
   ],
   "source": [
    "emotions = {0:'Angry',1:'Fear',2:'Happy',3:'Neutral',4:'Sad',5:'Surprise'}\n",
    "\n",
    "cap = cv2.VideoCapture(0)\n",
    "\n",
    "classifier = cv2.CascadeClassifier('Haarcascades\\\\haarcascade_frontalface_default.xml')\n",
    "\n",
    "def detect_face(frame):\n",
    "    faces=classifier.detectMultiScale(frame,1.3,4)\n",
    "    if faces==():\n",
    "        return frame\n",
    "    for x,y,w,h in faces:\n",
    "        cv2.rectangle(frame,(x,y),(x+w,y+h),(172,42,251),2)\n",
    "        face = frame[y:y+h,x:x+w]\n",
    "        face = cv2.cvtColor(face,cv2.COLOR_BGR2GRAY)\n",
    "        face = cv2.resize(face,(48,48))\n",
    "        face = face.reshape(1,48,48,1)\n",
    "        print (emotions[np.argmax(model.predict(face))])\n",
    "        cv2.putText(frame,text=emotions[np.argmax(model.predict(face))],\n",
    "                    org=(x,y-15),fontFace=cv2.FONT_HERSHEY_SIMPLEX,fontScale=1,color=(106,40,243),thickness=2)\n",
    "    return frame\n",
    "\n",
    "while 1:\n",
    "    ret,frame= cap.read()\n",
    "    if ret==True:\n",
    "        cv2.imshow('emotion_detector',detect_face(frame))\n",
    "        if cv2.waitKey(1)==27:\n",
    "            break\n",
    "cap.release()\n",
    "cv2.destroyAllWindows()"
   ]
  },
  {
   "cell_type": "markdown",
   "metadata": {},
   "source": [
    "# Predicting from Image"
   ]
  },
  {
   "cell_type": "code",
   "execution_count": 92,
   "metadata": {},
   "outputs": [
    {
     "name": "stderr",
     "output_type": "stream",
     "text": [
      "C:\\ProgramData\\Anaconda3\\lib\\site-packages\\ipykernel_launcher.py:9: DeprecationWarning: elementwise comparison failed; this will raise an error in the future.\n",
      "  if __name__ == '__main__':\n"
     ]
    },
    {
     "name": "stdout",
     "output_type": "stream",
     "text": [
      "Neutral\n",
      "Happy\n",
      "Happy\n",
      "Neutral\n",
      "Happy\n",
      "Happy\n",
      "Neutral\n",
      "Happy\n"
     ]
    }
   ],
   "source": [
    "image_path = \"D:\\\\Pictures\\\\New folder\\\\pics\\\\IMG_20151229_151631.jpg\"\n",
    "img = cv2.imread(image_path)\n",
    "# just change these ratios if the resultant image is too small or not picking up the faces\n",
    "# img = cv2.resize(img,None,fx=0.5,fy=0.5)  \n",
    "cv2.imshow('emotions_from_image ',detect_face(img))\n",
    "cv2.waitKey(0)\n",
    "cv2.destroyAllWindows()"
   ]
  },
  {
   "cell_type": "code",
   "execution_count": null,
   "metadata": {},
   "outputs": [],
   "source": []
  }
 ],
 "metadata": {
  "kernelspec": {
   "display_name": "Python 3",
   "language": "python",
   "name": "python3"
  },
  "language_info": {
   "codemirror_mode": {
    "name": "ipython",
    "version": 3
   },
   "file_extension": ".py",
   "mimetype": "text/x-python",
   "name": "python",
   "nbconvert_exporter": "python",
   "pygments_lexer": "ipython3",
   "version": "3.7.1"
  }
 },
 "nbformat": 4,
 "nbformat_minor": 2
}
