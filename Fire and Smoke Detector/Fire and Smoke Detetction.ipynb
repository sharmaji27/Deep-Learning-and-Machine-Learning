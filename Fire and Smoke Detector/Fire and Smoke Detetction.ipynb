{
 "cells": [
  {
   "cell_type": "code",
   "execution_count": 1,
   "metadata": {},
   "outputs": [
    {
     "name": "stderr",
     "output_type": "stream",
     "text": [
      "Using TensorFlow backend.\n"
     ]
    }
   ],
   "source": [
    "import os\n",
    "from keras.models import Sequential\n",
    "from keras.layers import BatchNormalization\n",
    "from keras.layers import SeparableConv2D\n",
    "from keras.layers import MaxPooling2D\n",
    "from keras.layers import Activation\n",
    "from keras.layers import Flatten\n",
    "from keras.layers import Dropout\n",
    "from keras.layers import Dense\n",
    "from keras.models import load_model\n",
    "\n",
    "import cv2\n",
    "import numpy as np\n",
    "from keras.utils import np_utils\n",
    "from sklearn.model_selection import train_test_split\n",
    "from keras.optimizers import SGD\n",
    "from keras.preprocessing.image import ImageDataGenerator\n",
    "import matplotlib.pyplot as plt"
   ]
  },
  {
   "cell_type": "code",
   "execution_count": 27,
   "metadata": {},
   "outputs": [],
   "source": [
    "# define the initial learning rate, batch size, and number of epochs\n",
    "INIT_LR = 0.1\n",
    "BATCH_SIZE = 64\n",
    "NUM_EPOCHS = 50\n",
    "lr_find = True\n",
    "\n",
    "classes = ['Non_Fire','Fire']"
   ]
  },
  {
   "cell_type": "code",
   "execution_count": 3,
   "metadata": {},
   "outputs": [],
   "source": [
    "images = []\n",
    "labels = []\n",
    "for c in classes:\n",
    "    try:\n",
    "        for img in os.listdir('Image Dataset/'+c):\n",
    "            img = cv2.imread('Image Dataset/'+c+'/'+img)\n",
    "            img = cv2.resize(img,(128,128))\n",
    "            images.append(img)\n",
    "            labels.append([0,1][c=='Fire'])\n",
    "    except:\n",
    "        pass\n",
    "    \n",
    "images = np.array(images,dtype='float32')/255.\n"
   ]
  },
  {
   "cell_type": "code",
   "execution_count": 4,
   "metadata": {},
   "outputs": [],
   "source": [
    "# just visualizing random images from the dataset created above \n",
    "\n",
    "ind = np.random.randint(0,len(images))\n",
    "cv2.imshow(str(labels[ind]),images[ind])\n",
    "cv2.waitKey(0)\n",
    "cv2.destroyAllWindows()"
   ]
  },
  {
   "cell_type": "code",
   "execution_count": 5,
   "metadata": {},
   "outputs": [],
   "source": [
    "labels = np.array(labels)\n",
    "labels = np_utils.to_categorical(labels,num_classes=2)\n",
    "\n",
    "classTotals = labels.sum(axis=0)\n",
    "classWeight = classTotals.max() / classTotals"
   ]
  },
  {
   "cell_type": "code",
   "execution_count": 6,
   "metadata": {},
   "outputs": [
    {
     "data": {
      "text/plain": [
       "array([2688., 1315.], dtype=float32)"
      ]
     },
     "execution_count": 6,
     "metadata": {},
     "output_type": "execute_result"
    }
   ],
   "source": [
    "classTotals"
   ]
  },
  {
   "cell_type": "code",
   "execution_count": 7,
   "metadata": {},
   "outputs": [
    {
     "data": {
      "text/plain": [
       "array([1.       , 2.0441065], dtype=float32)"
      ]
     },
     "execution_count": 7,
     "metadata": {},
     "output_type": "execute_result"
    }
   ],
   "source": [
    "classWeight"
   ]
  },
  {
   "cell_type": "code",
   "execution_count": 8,
   "metadata": {},
   "outputs": [],
   "source": [
    "X_train, X_test, y_train, y_test = train_test_split(images, labels, test_size=0.25, shuffle=True, random_state=42)"
   ]
  },
  {
   "cell_type": "code",
   "execution_count": 9,
   "metadata": {},
   "outputs": [],
   "source": [
    "aug = ImageDataGenerator(\n",
    "    rotation_range=30,\n",
    "    zoom_range=0.15,\n",
    "    width_shift_range=0.2,\n",
    "    height_shift_range=0.2,\n",
    "    shear_range=0.15,\n",
    "    horizontal_flip=True,\n",
    "    fill_mode=\"nearest\")"
   ]
  },
  {
   "cell_type": "code",
   "execution_count": 10,
   "metadata": {},
   "outputs": [
    {
     "name": "stderr",
     "output_type": "stream",
     "text": [
      "WARNING: Logging before flag parsing goes to stderr.\n",
      "W0331 17:19:16.239598 18472 deprecation_wrapper.py:119] From C:\\Users\\sharma ji\\AppData\\Roaming\\Python\\Python37\\site-packages\\keras\\backend\\tensorflow_backend.py:4070: The name tf.nn.max_pool is deprecated. Please use tf.nn.max_pool2d instead.\n",
      "\n"
     ]
    },
    {
     "name": "stdout",
     "output_type": "stream",
     "text": [
      "Model: \"sequential_1\"\n",
      "_________________________________________________________________\n",
      "Layer (type)                 Output Shape              Param #   \n",
      "=================================================================\n",
      "separable_conv2d_1 (Separabl (None, 128, 128, 32)      155       \n",
      "_________________________________________________________________\n",
      "activation_1 (Activation)    (None, 128, 128, 32)      0         \n",
      "_________________________________________________________________\n",
      "batch_normalization_1 (Batch (None, 128, 128, 32)      128       \n",
      "_________________________________________________________________\n",
      "max_pooling2d_1 (MaxPooling2 (None, 64, 64, 32)        0         \n",
      "_________________________________________________________________\n",
      "separable_conv2d_2 (Separabl (None, 64, 64, 64)        2400      \n",
      "_________________________________________________________________\n",
      "activation_2 (Activation)    (None, 64, 64, 64)        0         \n",
      "_________________________________________________________________\n",
      "batch_normalization_2 (Batch (None, 64, 64, 64)        256       \n",
      "_________________________________________________________________\n",
      "separable_conv2d_3 (Separabl (None, 64, 64, 64)        4736      \n",
      "_________________________________________________________________\n",
      "activation_3 (Activation)    (None, 64, 64, 64)        0         \n",
      "_________________________________________________________________\n",
      "batch_normalization_3 (Batch (None, 64, 64, 64)        256       \n",
      "_________________________________________________________________\n",
      "max_pooling2d_2 (MaxPooling2 (None, 32, 32, 64)        0         \n",
      "_________________________________________________________________\n",
      "flatten_1 (Flatten)          (None, 65536)             0         \n",
      "_________________________________________________________________\n",
      "dense_1 (Dense)              (None, 128)               8388736   \n",
      "_________________________________________________________________\n",
      "activation_4 (Activation)    (None, 128)               0         \n",
      "_________________________________________________________________\n",
      "batch_normalization_4 (Batch (None, 128)               512       \n",
      "_________________________________________________________________\n",
      "dropout_1 (Dropout)          (None, 128)               0         \n",
      "_________________________________________________________________\n",
      "dense_2 (Dense)              (None, 128)               16512     \n",
      "_________________________________________________________________\n",
      "activation_5 (Activation)    (None, 128)               0         \n",
      "_________________________________________________________________\n",
      "batch_normalization_5 (Batch (None, 128)               512       \n",
      "_________________________________________________________________\n",
      "dropout_2 (Dropout)          (None, 128)               0         \n",
      "_________________________________________________________________\n",
      "dense_3 (Dense)              (None, 2)                 258       \n",
      "_________________________________________________________________\n",
      "activation_6 (Activation)    (None, 2)                 0         \n",
      "=================================================================\n",
      "Total params: 8,414,461\n",
      "Trainable params: 8,413,629\n",
      "Non-trainable params: 832\n",
      "_________________________________________________________________\n",
      "None\n"
     ]
    }
   ],
   "source": [
    "model = Sequential()\n",
    "\n",
    "# CONV => RELU => POOL\n",
    "model.add(SeparableConv2D(32,(3,3),padding='same',input_shape=(128,128,3)))\n",
    "model.add(Activation('relu'))\n",
    "model.add(BatchNormalization())\n",
    "model.add(MaxPooling2D(pool_size=(2,2)))\n",
    "\n",
    "# CONV => RELU => CONV => RELU => POOL\n",
    "model.add(SeparableConv2D(64,(3,3),padding='same'))\n",
    "model.add(Activation('relu'))\n",
    "model.add(BatchNormalization())\n",
    "model.add(SeparableConv2D(64,(3,3),padding='same'))\n",
    "model.add(Activation('relu'))\n",
    "model.add(BatchNormalization())\n",
    "model.add(MaxPooling2D(pool_size=(2,2)))\n",
    "\n",
    "# first set of FC => RELU layers\n",
    "model.add(Flatten())\n",
    "model.add(Dense(128))\n",
    "model.add(Activation('relu'))\n",
    "model.add(BatchNormalization())\n",
    "model.add(Dropout(0.5))\n",
    "\n",
    "\n",
    "# second set of FC => RELU layers\n",
    "model.add(Dense(128))\n",
    "model.add(Activation('relu'))\n",
    "model.add(BatchNormalization())\n",
    "model.add(Dropout(0.5))\n",
    "\n",
    "# softmax classifier\n",
    "model.add(Dense(len(classes)))\n",
    "model.add(Activation(\"softmax\"))\n",
    "\n",
    "opt = SGD(learning_rate=INIT_LR, momentum=0.9,decay=INIT_LR / NUM_EPOCHS)\n",
    "\n",
    "model.compile(loss=['binary_crossentropy'],\n",
    "              optimizer=opt,\n",
    "              metrics=['accuracy'])\n",
    "\n",
    "print(model.summary())"
   ]
  },
  {
   "cell_type": "code",
   "execution_count": null,
   "metadata": {},
   "outputs": [],
   "source": [
    "from pyimagesearch.learningratefinder import LearningRateFinder \n",
    "# if \"lr_find\" ==True:\n",
    "    # initialize the learning rate finder and then train with learning\n",
    "    # rates ranging from 1e-10 to 1e+1\n",
    "print(\"[INFO] finding learning rate...\")\n",
    "lrf = LearningRateFinder(model)\n",
    "# start from 1e-10 till 1e+1\n",
    "lrf.find(\n",
    "    aug.flow(X_train, y_train, batch_size=BATCH_SIZE),\n",
    "    1e-10, 1e+1,\n",
    "    stepsPerEpoch=np.ceil((X_train.shape[0] / float(BATCH_SIZE))),\n",
    "    epochs=20,\n",
    "    batchSize=BATCH_SIZE,\n",
    "    classWeight=classWeight)\n",
    "# plot the loss for the various learning rates and save the\n",
    "# resulting plot to disk\n",
    "lrf.plot_loss()\n",
    "plt.savefig(\"output/lrfind_plot.png\")\n",
    "# gracefully exit the script so we can adjust our learning rates\n",
    "# in the config and then train the network for our full set of\n",
    "# epochs\n",
    "print(\"[INFO] learning rate finder complete\")\n",
    "print(\"[INFO] examine plot and adjust learning rates before training\")"
   ]
  },
  {
   "cell_type": "code",
   "execution_count": 11,
   "metadata": {},
   "outputs": [
    {
     "name": "stderr",
     "output_type": "stream",
     "text": [
      "W0331 17:19:25.735089 18472 deprecation.py:323] From C:\\Users\\sharma ji\\AppData\\Roaming\\Python\\Python37\\site-packages\\tensorflow\\python\\ops\\math_grad.py:1250: add_dispatch_support.<locals>.wrapper (from tensorflow.python.ops.array_ops) is deprecated and will be removed in a future version.\n",
      "Instructions for updating:\n",
      "Use tf.where in 2.0, which has the same broadcast rule as np.where\n"
     ]
    },
    {
     "name": "stdout",
     "output_type": "stream",
     "text": [
      "[INFO] training network...\n"
     ]
    },
    {
     "name": "stderr",
     "output_type": "stream",
     "text": [
      "W0331 17:19:27.267061 18472 deprecation_wrapper.py:119] From C:\\Users\\sharma ji\\AppData\\Roaming\\Python\\Python37\\site-packages\\keras\\backend\\tensorflow_backend.py:422: The name tf.global_variables is deprecated. Please use tf.compat.v1.global_variables instead.\n",
      "\n"
     ]
    },
    {
     "name": "stdout",
     "output_type": "stream",
     "text": [
      "Epoch 1/50\n",
      "46/46 [==============================] - 247s 5s/step - loss: 1.0360 - accuracy: 0.6508 - val_loss: 5.3933 - val_accuracy: 0.6474\n",
      "Epoch 2/50\n",
      "46/46 [==============================] - 256s 6s/step - loss: 0.6056 - accuracy: 0.7243 - val_loss: 4.3200 - val_accuracy: 0.6993\n",
      "Epoch 3/50\n",
      "46/46 [==============================] - 259s 6s/step - loss: 0.4957 - accuracy: 0.7403 - val_loss: 2.2504 - val_accuracy: 0.7333\n",
      "Epoch 4/50\n",
      "46/46 [==============================] - 267s 6s/step - loss: 0.4963 - accuracy: 0.7556 - val_loss: 1.1817 - val_accuracy: 0.7323\n",
      "Epoch 5/50\n",
      "46/46 [==============================] - 272s 6s/step - loss: 0.4790 - accuracy: 0.7768 - val_loss: 0.6147 - val_accuracy: 0.7483\n",
      "Epoch 6/50\n",
      "46/46 [==============================] - 267s 6s/step - loss: 0.4620 - accuracy: 0.7713 - val_loss: 0.4106 - val_accuracy: 0.7982\n",
      "Epoch 7/50\n",
      "46/46 [==============================] - 240s 5s/step - loss: 0.4373 - accuracy: 0.7797 - val_loss: 0.8306 - val_accuracy: 0.7393\n",
      "Epoch 8/50\n",
      "46/46 [==============================] - 264s 6s/step - loss: 0.4301 - accuracy: 0.7883 - val_loss: 0.4476 - val_accuracy: 0.7902\n",
      "Epoch 9/50\n",
      "46/46 [==============================] - 248s 5s/step - loss: 0.4196 - accuracy: 0.7931 - val_loss: 0.3988 - val_accuracy: 0.8112\n",
      "Epoch 10/50\n",
      "46/46 [==============================] - 266s 6s/step - loss: 0.4197 - accuracy: 0.8039 - val_loss: 0.4859 - val_accuracy: 0.7902\n",
      "Epoch 11/50\n",
      "46/46 [==============================] - 256s 6s/step - loss: 0.3976 - accuracy: 0.8076 - val_loss: 0.4338 - val_accuracy: 0.8142\n",
      "Epoch 12/50\n",
      "46/46 [==============================] - 261s 6s/step - loss: 0.4110 - accuracy: 0.8162 - val_loss: 0.4799 - val_accuracy: 0.7892\n",
      "Epoch 13/50\n",
      "46/46 [==============================] - 252s 5s/step - loss: 0.3889 - accuracy: 0.8134 - val_loss: 0.4472 - val_accuracy: 0.7872\n",
      "Epoch 14/50\n",
      "46/46 [==============================] - 259s 6s/step - loss: 0.3852 - accuracy: 0.8251 - val_loss: 0.4698 - val_accuracy: 0.8032\n",
      "Epoch 15/50\n",
      "46/46 [==============================] - 271s 6s/step - loss: 0.3848 - accuracy: 0.8209 - val_loss: 0.5010 - val_accuracy: 0.7872\n",
      "Epoch 16/50\n",
      "46/46 [==============================] - 275s 6s/step - loss: 0.3717 - accuracy: 0.8390 - val_loss: 0.4182 - val_accuracy: 0.8192\n",
      "Epoch 17/50\n",
      "46/46 [==============================] - 295s 6s/step - loss: 0.3891 - accuracy: 0.8189 - val_loss: 0.4091 - val_accuracy: 0.8182\n",
      "Epoch 18/50\n",
      "46/46 [==============================] - 282s 6s/step - loss: 0.3460 - accuracy: 0.8448 - val_loss: 0.3299 - val_accuracy: 0.8521\n",
      "Epoch 19/50\n",
      "46/46 [==============================] - 275s 6s/step - loss: 0.3603 - accuracy: 0.8448 - val_loss: 0.3955 - val_accuracy: 0.8062\n",
      "Epoch 20/50\n",
      "46/46 [==============================] - 297s 6s/step - loss: 0.3331 - accuracy: 0.8496 - val_loss: 0.2984 - val_accuracy: 0.8711\n",
      "Epoch 21/50\n",
      "46/46 [==============================] - 273s 6s/step - loss: 0.3496 - accuracy: 0.8492 - val_loss: 0.3297 - val_accuracy: 0.8611\n",
      "Epoch 22/50\n",
      "46/46 [==============================] - 239s 5s/step - loss: 0.3185 - accuracy: 0.8584 - val_loss: 0.3342 - val_accuracy: 0.8591\n",
      "Epoch 23/50\n",
      "46/46 [==============================] - 224s 5s/step - loss: 0.3190 - accuracy: 0.8676 - val_loss: 0.3071 - val_accuracy: 0.8751\n",
      "Epoch 24/50\n",
      "46/46 [==============================] - 217s 5s/step - loss: 0.3205 - accuracy: 0.8683 - val_loss: 0.4197 - val_accuracy: 0.7812\n",
      "Epoch 25/50\n",
      "46/46 [==============================] - 231s 5s/step - loss: 0.3027 - accuracy: 0.8690 - val_loss: 0.2924 - val_accuracy: 0.8841\n",
      "Epoch 26/50\n",
      "46/46 [==============================] - 230s 5s/step - loss: 0.3234 - accuracy: 0.8642 - val_loss: 0.2992 - val_accuracy: 0.8821\n",
      "Epoch 27/50\n",
      "46/46 [==============================] - 226s 5s/step - loss: 0.3064 - accuracy: 0.8692 - val_loss: 0.2756 - val_accuracy: 0.8921\n",
      "Epoch 28/50\n",
      "46/46 [==============================] - 206s 4s/step - loss: 0.3100 - accuracy: 0.8666 - val_loss: 0.4265 - val_accuracy: 0.7922\n",
      "Epoch 29/50\n",
      "46/46 [==============================] - 217s 5s/step - loss: 0.2890 - accuracy: 0.8772 - val_loss: 0.5729 - val_accuracy: 0.7473\n",
      "Epoch 30/50\n",
      "46/46 [==============================] - 214s 5s/step - loss: 0.2863 - accuracy: 0.8764 - val_loss: 0.4069 - val_accuracy: 0.8202\n",
      "Epoch 31/50\n",
      "46/46 [==============================] - 216s 5s/step - loss: 0.2784 - accuracy: 0.8855 - val_loss: 0.3885 - val_accuracy: 0.8312\n",
      "Epoch 32/50\n",
      "46/46 [==============================] - 209s 5s/step - loss: 0.2933 - accuracy: 0.8782 - val_loss: 0.4007 - val_accuracy: 0.8172\n",
      "Epoch 33/50\n",
      "46/46 [==============================] - 214s 5s/step - loss: 0.2713 - accuracy: 0.8853 - val_loss: 0.6502 - val_accuracy: 0.7013\n",
      "Epoch 34/50\n",
      "46/46 [==============================] - 203s 4s/step - loss: 0.2817 - accuracy: 0.8781 - val_loss: 0.5593 - val_accuracy: 0.7463\n",
      "Epoch 35/50\n",
      "46/46 [==============================] - 205s 4s/step - loss: 0.2672 - accuracy: 0.8845 - val_loss: 0.6079 - val_accuracy: 0.7033\n",
      "Epoch 36/50\n",
      "46/46 [==============================] - 218s 5s/step - loss: 0.2750 - accuracy: 0.8860 - val_loss: 0.8709 - val_accuracy: 0.6294\n",
      "Epoch 37/50\n",
      "46/46 [==============================] - 222s 5s/step - loss: 0.2696 - accuracy: 0.8904 - val_loss: 0.3988 - val_accuracy: 0.8172\n",
      "Epoch 38/50\n",
      "46/46 [==============================] - 221s 5s/step - loss: 0.2691 - accuracy: 0.8897 - val_loss: 0.2863 - val_accuracy: 0.8731\n",
      "Epoch 39/50\n",
      "46/46 [==============================] - 212s 5s/step - loss: 0.2658 - accuracy: 0.8928 - val_loss: 0.4577 - val_accuracy: 0.8042\n",
      "Epoch 40/50\n",
      "46/46 [==============================] - 211s 5s/step - loss: 0.2705 - accuracy: 0.8919 - val_loss: 0.2886 - val_accuracy: 0.8711\n",
      "Epoch 41/50\n",
      "46/46 [==============================] - 206s 4s/step - loss: 0.2507 - accuracy: 0.8978 - val_loss: 0.5460 - val_accuracy: 0.7493\n",
      "Epoch 42/50\n",
      "46/46 [==============================] - 215s 5s/step - loss: 0.2699 - accuracy: 0.8897 - val_loss: 0.4229 - val_accuracy: 0.8152\n",
      "Epoch 43/50\n",
      "46/46 [==============================] - 217s 5s/step - loss: 0.2442 - accuracy: 0.9013 - val_loss: 0.3264 - val_accuracy: 0.8551\n",
      "Epoch 44/50\n",
      "46/46 [==============================] - 214s 5s/step - loss: 0.2536 - accuracy: 0.8999 - val_loss: 0.2663 - val_accuracy: 0.8851\n",
      "Epoch 45/50\n",
      "46/46 [==============================] - 213s 5s/step - loss: 0.2327 - accuracy: 0.9084 - val_loss: 0.4547 - val_accuracy: 0.8152\n",
      "Epoch 46/50\n",
      "46/46 [==============================] - 219s 5s/step - loss: 0.2408 - accuracy: 0.9067 - val_loss: 0.3910 - val_accuracy: 0.8442\n",
      "Epoch 47/50\n",
      "46/46 [==============================] - 232s 5s/step - loss: 0.2523 - accuracy: 0.8955 - val_loss: 0.8444 - val_accuracy: 0.6863\n",
      "Epoch 48/50\n",
      "46/46 [==============================] - 227s 5s/step - loss: 0.2364 - accuracy: 0.9088 - val_loss: 0.5377 - val_accuracy: 0.7562\n",
      "Epoch 49/50\n",
      "46/46 [==============================] - 244s 5s/step - loss: 0.2470 - accuracy: 0.8945 - val_loss: 0.4662 - val_accuracy: 0.8232\n",
      "Epoch 50/50\n",
      "46/46 [==============================] - 224s 5s/step - loss: 0.2637 - accuracy: 0.8938 - val_loss: 0.3448 - val_accuracy: 0.8492\n",
      "[INFO] serializing network to 'output/model'...\n"
     ]
    },
    {
     "ename": "OSError",
     "evalue": "Unable to create file (unable to open file: name = 'output/model', errno = 13, error message = 'Permission denied', flags = 13, o_flags = 302)",
     "output_type": "error",
     "traceback": [
      "\u001b[1;31m---------------------------------------------------------------------------\u001b[0m",
      "\u001b[1;31mOSError\u001b[0m                                   Traceback (most recent call last)",
      "\u001b[1;32m<ipython-input-11-a28d56502573>\u001b[0m in \u001b[0;36m<module>\u001b[1;34m\u001b[0m\n\u001b[0;32m     10\u001b[0m \u001b[1;33m\u001b[0m\u001b[0m\n\u001b[0;32m     11\u001b[0m \u001b[0mprint\u001b[0m\u001b[1;33m(\u001b[0m\u001b[1;34m\"[INFO] serializing network to '{}'...\"\u001b[0m\u001b[1;33m.\u001b[0m\u001b[0mformat\u001b[0m\u001b[1;33m(\u001b[0m\u001b[1;34m'output/model'\u001b[0m\u001b[1;33m)\u001b[0m\u001b[1;33m)\u001b[0m\u001b[1;33m\u001b[0m\u001b[1;33m\u001b[0m\u001b[0m\n\u001b[1;32m---> 12\u001b[1;33m \u001b[0mmodel\u001b[0m\u001b[1;33m.\u001b[0m\u001b[0msave\u001b[0m\u001b[1;33m(\u001b[0m\u001b[1;34m\"output/model\"\u001b[0m\u001b[1;33m)\u001b[0m\u001b[1;33m\u001b[0m\u001b[1;33m\u001b[0m\u001b[0m\n\u001b[0m",
      "\u001b[1;32m~\\AppData\\Roaming\\Python\\Python37\\site-packages\\keras\\engine\\network.py\u001b[0m in \u001b[0;36msave\u001b[1;34m(self, filepath, overwrite, include_optimizer)\u001b[0m\n\u001b[0;32m   1150\u001b[0m             \u001b[1;32mraise\u001b[0m \u001b[0mNotImplementedError\u001b[0m\u001b[1;33m\u001b[0m\u001b[1;33m\u001b[0m\u001b[0m\n\u001b[0;32m   1151\u001b[0m         \u001b[1;32mfrom\u001b[0m \u001b[1;33m.\u001b[0m\u001b[1;33m.\u001b[0m\u001b[0mmodels\u001b[0m \u001b[1;32mimport\u001b[0m \u001b[0msave_model\u001b[0m\u001b[1;33m\u001b[0m\u001b[1;33m\u001b[0m\u001b[0m\n\u001b[1;32m-> 1152\u001b[1;33m         \u001b[0msave_model\u001b[0m\u001b[1;33m(\u001b[0m\u001b[0mself\u001b[0m\u001b[1;33m,\u001b[0m \u001b[0mfilepath\u001b[0m\u001b[1;33m,\u001b[0m \u001b[0moverwrite\u001b[0m\u001b[1;33m,\u001b[0m \u001b[0minclude_optimizer\u001b[0m\u001b[1;33m)\u001b[0m\u001b[1;33m\u001b[0m\u001b[1;33m\u001b[0m\u001b[0m\n\u001b[0m\u001b[0;32m   1153\u001b[0m \u001b[1;33m\u001b[0m\u001b[0m\n\u001b[0;32m   1154\u001b[0m     \u001b[1;33m@\u001b[0m\u001b[0msaving\u001b[0m\u001b[1;33m.\u001b[0m\u001b[0mallow_write_to_gcs\u001b[0m\u001b[1;33m\u001b[0m\u001b[1;33m\u001b[0m\u001b[0m\n",
      "\u001b[1;32m~\\AppData\\Roaming\\Python\\Python37\\site-packages\\keras\\engine\\saving.py\u001b[0m in \u001b[0;36msave_wrapper\u001b[1;34m(obj, filepath, overwrite, *args, **kwargs)\u001b[0m\n\u001b[0;32m    447\u001b[0m                 \u001b[0mos\u001b[0m\u001b[1;33m.\u001b[0m\u001b[0mremove\u001b[0m\u001b[1;33m(\u001b[0m\u001b[0mtmp_filepath\u001b[0m\u001b[1;33m)\u001b[0m\u001b[1;33m\u001b[0m\u001b[1;33m\u001b[0m\u001b[0m\n\u001b[0;32m    448\u001b[0m         \u001b[1;32melse\u001b[0m\u001b[1;33m:\u001b[0m\u001b[1;33m\u001b[0m\u001b[1;33m\u001b[0m\u001b[0m\n\u001b[1;32m--> 449\u001b[1;33m             \u001b[0msave_function\u001b[0m\u001b[1;33m(\u001b[0m\u001b[0mobj\u001b[0m\u001b[1;33m,\u001b[0m \u001b[0mfilepath\u001b[0m\u001b[1;33m,\u001b[0m \u001b[0moverwrite\u001b[0m\u001b[1;33m,\u001b[0m \u001b[1;33m*\u001b[0m\u001b[0margs\u001b[0m\u001b[1;33m,\u001b[0m \u001b[1;33m**\u001b[0m\u001b[0mkwargs\u001b[0m\u001b[1;33m)\u001b[0m\u001b[1;33m\u001b[0m\u001b[1;33m\u001b[0m\u001b[0m\n\u001b[0m\u001b[0;32m    450\u001b[0m \u001b[1;33m\u001b[0m\u001b[0m\n\u001b[0;32m    451\u001b[0m     \u001b[1;32mreturn\u001b[0m \u001b[0msave_wrapper\u001b[0m\u001b[1;33m\u001b[0m\u001b[1;33m\u001b[0m\u001b[0m\n",
      "\u001b[1;32m~\\AppData\\Roaming\\Python\\Python37\\site-packages\\keras\\engine\\saving.py\u001b[0m in \u001b[0;36msave_model\u001b[1;34m(model, filepath, overwrite, include_optimizer)\u001b[0m\n\u001b[0;32m    538\u001b[0m             \u001b[1;32mif\u001b[0m \u001b[1;32mnot\u001b[0m \u001b[0mproceed\u001b[0m\u001b[1;33m:\u001b[0m\u001b[1;33m\u001b[0m\u001b[1;33m\u001b[0m\u001b[0m\n\u001b[0;32m    539\u001b[0m                 \u001b[1;32mreturn\u001b[0m\u001b[1;33m\u001b[0m\u001b[1;33m\u001b[0m\u001b[0m\n\u001b[1;32m--> 540\u001b[1;33m         \u001b[1;32mwith\u001b[0m \u001b[0mH5Dict\u001b[0m\u001b[1;33m(\u001b[0m\u001b[0mfilepath\u001b[0m\u001b[1;33m,\u001b[0m \u001b[0mmode\u001b[0m\u001b[1;33m=\u001b[0m\u001b[1;34m'w'\u001b[0m\u001b[1;33m)\u001b[0m \u001b[1;32mas\u001b[0m \u001b[0mh5dict\u001b[0m\u001b[1;33m:\u001b[0m\u001b[1;33m\u001b[0m\u001b[1;33m\u001b[0m\u001b[0m\n\u001b[0m\u001b[0;32m    541\u001b[0m             \u001b[0m_serialize_model\u001b[0m\u001b[1;33m(\u001b[0m\u001b[0mmodel\u001b[0m\u001b[1;33m,\u001b[0m \u001b[0mh5dict\u001b[0m\u001b[1;33m,\u001b[0m \u001b[0minclude_optimizer\u001b[0m\u001b[1;33m)\u001b[0m\u001b[1;33m\u001b[0m\u001b[1;33m\u001b[0m\u001b[0m\n\u001b[0;32m    542\u001b[0m     \u001b[1;32melif\u001b[0m \u001b[0mhasattr\u001b[0m\u001b[1;33m(\u001b[0m\u001b[0mfilepath\u001b[0m\u001b[1;33m,\u001b[0m \u001b[1;34m'write'\u001b[0m\u001b[1;33m)\u001b[0m \u001b[1;32mand\u001b[0m \u001b[0mcallable\u001b[0m\u001b[1;33m(\u001b[0m\u001b[0mfilepath\u001b[0m\u001b[1;33m.\u001b[0m\u001b[0mwrite\u001b[0m\u001b[1;33m)\u001b[0m\u001b[1;33m:\u001b[0m\u001b[1;33m\u001b[0m\u001b[1;33m\u001b[0m\u001b[0m\n",
      "\u001b[1;32m~\\AppData\\Roaming\\Python\\Python37\\site-packages\\keras\\utils\\io_utils.py\u001b[0m in \u001b[0;36m__init__\u001b[1;34m(self, path, mode)\u001b[0m\n\u001b[0;32m    189\u001b[0m             \u001b[0mself\u001b[0m\u001b[1;33m.\u001b[0m\u001b[0m_is_file\u001b[0m \u001b[1;33m=\u001b[0m \u001b[1;32mFalse\u001b[0m\u001b[1;33m\u001b[0m\u001b[1;33m\u001b[0m\u001b[0m\n\u001b[0;32m    190\u001b[0m         \u001b[1;32melif\u001b[0m \u001b[0misinstance\u001b[0m\u001b[1;33m(\u001b[0m\u001b[0mpath\u001b[0m\u001b[1;33m,\u001b[0m \u001b[0msix\u001b[0m\u001b[1;33m.\u001b[0m\u001b[0mstring_types\u001b[0m\u001b[1;33m)\u001b[0m \u001b[1;32mor\u001b[0m \u001b[0m_is_path_instance\u001b[0m\u001b[1;33m(\u001b[0m\u001b[0mpath\u001b[0m\u001b[1;33m)\u001b[0m\u001b[1;33m:\u001b[0m\u001b[1;33m\u001b[0m\u001b[1;33m\u001b[0m\u001b[0m\n\u001b[1;32m--> 191\u001b[1;33m             \u001b[0mself\u001b[0m\u001b[1;33m.\u001b[0m\u001b[0mdata\u001b[0m \u001b[1;33m=\u001b[0m \u001b[0mh5py\u001b[0m\u001b[1;33m.\u001b[0m\u001b[0mFile\u001b[0m\u001b[1;33m(\u001b[0m\u001b[0mpath\u001b[0m\u001b[1;33m,\u001b[0m \u001b[0mmode\u001b[0m\u001b[1;33m=\u001b[0m\u001b[0mmode\u001b[0m\u001b[1;33m)\u001b[0m\u001b[1;33m\u001b[0m\u001b[1;33m\u001b[0m\u001b[0m\n\u001b[0m\u001b[0;32m    192\u001b[0m             \u001b[0mself\u001b[0m\u001b[1;33m.\u001b[0m\u001b[0m_is_file\u001b[0m \u001b[1;33m=\u001b[0m \u001b[1;32mTrue\u001b[0m\u001b[1;33m\u001b[0m\u001b[1;33m\u001b[0m\u001b[0m\n\u001b[0;32m    193\u001b[0m         \u001b[1;32melif\u001b[0m \u001b[0misinstance\u001b[0m\u001b[1;33m(\u001b[0m\u001b[0mpath\u001b[0m\u001b[1;33m,\u001b[0m \u001b[0mdict\u001b[0m\u001b[1;33m)\u001b[0m\u001b[1;33m:\u001b[0m\u001b[1;33m\u001b[0m\u001b[1;33m\u001b[0m\u001b[0m\n",
      "\u001b[1;32m~\\AppData\\Roaming\\Python\\Python37\\site-packages\\h5py\\_hl\\files.py\u001b[0m in \u001b[0;36m__init__\u001b[1;34m(self, name, mode, driver, libver, userblock_size, swmr, rdcc_nslots, rdcc_nbytes, rdcc_w0, track_order, **kwds)\u001b[0m\n\u001b[0;32m    392\u001b[0m                 fid = make_fid(name, mode, userblock_size,\n\u001b[0;32m    393\u001b[0m                                \u001b[0mfapl\u001b[0m\u001b[1;33m,\u001b[0m \u001b[0mfcpl\u001b[0m\u001b[1;33m=\u001b[0m\u001b[0mmake_fcpl\u001b[0m\u001b[1;33m(\u001b[0m\u001b[0mtrack_order\u001b[0m\u001b[1;33m=\u001b[0m\u001b[0mtrack_order\u001b[0m\u001b[1;33m)\u001b[0m\u001b[1;33m,\u001b[0m\u001b[1;33m\u001b[0m\u001b[1;33m\u001b[0m\u001b[0m\n\u001b[1;32m--> 394\u001b[1;33m                                swmr=swmr)\n\u001b[0m\u001b[0;32m    395\u001b[0m \u001b[1;33m\u001b[0m\u001b[0m\n\u001b[0;32m    396\u001b[0m             \u001b[1;32mif\u001b[0m \u001b[0mswmr_support\u001b[0m\u001b[1;33m:\u001b[0m\u001b[1;33m\u001b[0m\u001b[1;33m\u001b[0m\u001b[0m\n",
      "\u001b[1;32m~\\AppData\\Roaming\\Python\\Python37\\site-packages\\h5py\\_hl\\files.py\u001b[0m in \u001b[0;36mmake_fid\u001b[1;34m(name, mode, userblock_size, fapl, fcpl, swmr)\u001b[0m\n\u001b[0;32m    174\u001b[0m         \u001b[0mfid\u001b[0m \u001b[1;33m=\u001b[0m \u001b[0mh5f\u001b[0m\u001b[1;33m.\u001b[0m\u001b[0mcreate\u001b[0m\u001b[1;33m(\u001b[0m\u001b[0mname\u001b[0m\u001b[1;33m,\u001b[0m \u001b[0mh5f\u001b[0m\u001b[1;33m.\u001b[0m\u001b[0mACC_EXCL\u001b[0m\u001b[1;33m,\u001b[0m \u001b[0mfapl\u001b[0m\u001b[1;33m=\u001b[0m\u001b[0mfapl\u001b[0m\u001b[1;33m,\u001b[0m \u001b[0mfcpl\u001b[0m\u001b[1;33m=\u001b[0m\u001b[0mfcpl\u001b[0m\u001b[1;33m)\u001b[0m\u001b[1;33m\u001b[0m\u001b[1;33m\u001b[0m\u001b[0m\n\u001b[0;32m    175\u001b[0m     \u001b[1;32melif\u001b[0m \u001b[0mmode\u001b[0m \u001b[1;33m==\u001b[0m \u001b[1;34m'w'\u001b[0m\u001b[1;33m:\u001b[0m\u001b[1;33m\u001b[0m\u001b[1;33m\u001b[0m\u001b[0m\n\u001b[1;32m--> 176\u001b[1;33m         \u001b[0mfid\u001b[0m \u001b[1;33m=\u001b[0m \u001b[0mh5f\u001b[0m\u001b[1;33m.\u001b[0m\u001b[0mcreate\u001b[0m\u001b[1;33m(\u001b[0m\u001b[0mname\u001b[0m\u001b[1;33m,\u001b[0m \u001b[0mh5f\u001b[0m\u001b[1;33m.\u001b[0m\u001b[0mACC_TRUNC\u001b[0m\u001b[1;33m,\u001b[0m \u001b[0mfapl\u001b[0m\u001b[1;33m=\u001b[0m\u001b[0mfapl\u001b[0m\u001b[1;33m,\u001b[0m \u001b[0mfcpl\u001b[0m\u001b[1;33m=\u001b[0m\u001b[0mfcpl\u001b[0m\u001b[1;33m)\u001b[0m\u001b[1;33m\u001b[0m\u001b[1;33m\u001b[0m\u001b[0m\n\u001b[0m\u001b[0;32m    177\u001b[0m     \u001b[1;32melif\u001b[0m \u001b[0mmode\u001b[0m \u001b[1;33m==\u001b[0m \u001b[1;34m'a'\u001b[0m\u001b[1;33m:\u001b[0m\u001b[1;33m\u001b[0m\u001b[1;33m\u001b[0m\u001b[0m\n\u001b[0;32m    178\u001b[0m         \u001b[1;31m# Open in append mode (read/write).\u001b[0m\u001b[1;33m\u001b[0m\u001b[1;33m\u001b[0m\u001b[1;33m\u001b[0m\u001b[0m\n",
      "\u001b[1;32mh5py\\_objects.pyx\u001b[0m in \u001b[0;36mh5py._objects.with_phil.wrapper\u001b[1;34m()\u001b[0m\n",
      "\u001b[1;32mh5py\\_objects.pyx\u001b[0m in \u001b[0;36mh5py._objects.with_phil.wrapper\u001b[1;34m()\u001b[0m\n",
      "\u001b[1;32mh5py\\h5f.pyx\u001b[0m in \u001b[0;36mh5py.h5f.create\u001b[1;34m()\u001b[0m\n",
      "\u001b[1;31mOSError\u001b[0m: Unable to create file (unable to open file: name = 'output/model', errno = 13, error message = 'Permission denied', flags = 13, o_flags = 302)"
     ]
    }
   ],
   "source": [
    "print(\"[INFO] training network...\")\n",
    "\n",
    "H = model.fit_generator(\n",
    "    aug.flow(X_train, y_train, batch_size=BATCH_SIZE),\n",
    "    validation_data=(X_test, y_test),\n",
    "    steps_per_epoch=X_train.shape[0] // BATCH_SIZE,\n",
    "    epochs=NUM_EPOCHS,\n",
    "    class_weight=classWeight,\n",
    "    verbose=1)\n",
    "\n",
    "print(\"[INFO] serializing network to '{}'...\".format('output/model'))\n",
    "model.save('output/fire_detection.h5')"
   ]
  },
  {
   "cell_type": "code",
   "execution_count": 30,
   "metadata": {},
   "outputs": [
    {
     "data": {
      "image/png": "[encoded data removed]",
      "text/plain": [
       "<Figure size 432x288 with 1 Axes>"
      ]
     },
     "metadata": {},
     "output_type": "display_data"
    }
   ],
   "source": [
    "N = np.arange(0, NUM_EPOCHS)\n",
    "plt.style.use(\"ggplot\")\n",
    "plt.figure()\n",
    "plt.plot(N, H.history[\"loss\"], label=\"train_loss\")\n",
    "plt.plot(N, H.history[\"val_loss\"], label=\"val_loss\")\n",
    "plt.plot(N, H.history[\"accuracy\"], label=\"train_acc\")\n",
    "plt.plot(N, H.history[\"val_accuracy\"], label=\"val_acc\")\n",
    "plt.title(\"Training Loss and Accuracy\")\n",
    "plt.xlabel(\"Epoch #\")\n",
    "plt.ylabel(\"Loss/Accuracy\")\n",
    "plt.legend(loc=\"upper right\")\n",
    "plt.savefig(\"output/training_plot.png\")"
   ]
  },
  {
   "cell_type": "code",
   "execution_count": 16,
   "metadata": {},
   "outputs": [
    {
     "name": "stdout",
     "output_type": "stream",
     "text": [
      "[INFO] loading model...\n"
     ]
    }
   ],
   "source": [
    "# load the trained model from disk\n",
    "print(\"[INFO] loading model...\")\n",
    "model = load_model('output/fire_detection.h5')"
   ]
  },
  {
   "cell_type": "code",
   "execution_count": 29,
   "metadata": {},
   "outputs": [],
   "source": [
    "for i in range(50):\n",
    "    random_index = np.random.randint(0,len(images))\n",
    "    org_img = images[random_index]*255\n",
    "    img = org_img.copy()\n",
    "    img = cv2.resize(img,(128,128))\n",
    "    img = img.astype('float32')/256\n",
    "    pred = model.predict(np.expand_dims(img,axis=0))[0]\n",
    "    result = classes[np.argmax(pred)]\n",
    "    org_img = cv2.resize(org_img,(500,500))\n",
    "    cv2.putText(org_img, result, (35, 50), cv2.FONT_HERSHEY_SIMPLEX,1.25, (0, 255, 0), 5)\n",
    "    cv2.imwrite('output/testing/{}.png'.format(i),org_img)"
   ]
  },
  {
   "cell_type": "code",
   "execution_count": null,
   "metadata": {},
   "outputs": [],
   "source": []
  }
 ],
 "metadata": {
  "kernelspec": {
   "display_name": "Python 3",
   "language": "python",
   "name": "python3"
  },
  "language_info": {
   "codemirror_mode": {
    "name": "ipython",
    "version": 3
   },
   "file_extension": ".py",
   "mimetype": "text/x-python",
   "name": "python",
   "nbconvert_exporter": "python",
   "pygments_lexer": "ipython3",
   "version": "3.7.1"
  }
 },
 "nbformat": 4,
 "nbformat_minor": 2
}
