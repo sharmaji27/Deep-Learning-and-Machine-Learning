{
 "cells": [
  {
   "cell_type": "code",
   "execution_count": 1,
   "metadata": {},
   "outputs": [],
   "source": [
    "import numpy as np\n",
    "import tensorflow as tf\n",
    "import matplotlib.pyplot as plt"
   ]
  },
  {
   "cell_type": "code",
   "execution_count": 2,
   "metadata": {},
   "outputs": [
    {
     "name": "stdout",
     "output_type": "stream",
     "text": [
      "(1000, 2) (1000, 1)\n"
     ]
    }
   ],
   "source": [
    "#GENERATING INPUTS AND OUTPUTS AND SAVING IN .npz FORMAT\n",
    "\n",
    "observations=1000\n",
    "xs=np.random.uniform(-10,10,(observations,1))\n",
    "zs=np.random.uniform(-10,10,(observations,1))\n",
    "generated_input = np.column_stack((xs,zs))\n",
    "noise=np.random.uniform(-1,1,(observations,1))\n",
    "generated_targets=2*xs-3*zs+5+noise\n",
    "np.savez('TF_INTRO',inputs=generated_input,targets=generated_targets)\n",
    "\n",
    "\n",
    "print(generated_input.shape,generated_targets.shape)"
   ]
  },
  {
   "cell_type": "code",
   "execution_count": 3,
   "metadata": {},
   "outputs": [],
   "source": [
    "# CREATING PLACEHOLDERS FOR INPUTS AND OUTPUTS AND INITIALIZING WEIGHTS AND BIASES\n",
    "\n",
    "input_columns=2\n",
    "output_columns=1\n",
    "\n",
    "inputs = tf.placeholder(tf.float32,[None,input_columns])\n",
    "targets = tf.placeholder(tf.float32,[None,output_columns])\n",
    "\n",
    "weights=tf.Variable(tf.random_uniform([input_columns,output_columns],minval=-0.1,maxval=0.1))\n",
    "biases=tf.Variable(tf.random_uniform([output_columns],minval=-0.1,maxval=0.1))\n",
    "\n",
    "outputs=tf.matmul(inputs,weights)+biases\n"
   ]
  },
  {
   "cell_type": "code",
   "execution_count": 4,
   "metadata": {},
   "outputs": [
    {
     "name": "stderr",
     "output_type": "stream",
     "text": [
      "WARNING: Logging before flag parsing goes to stderr.\n",
      "W1113 19:04:07.216090 10760 deprecation.py:323] From C:\\Users\\sharma ji\\AppData\\Roaming\\Python\\Python37\\site-packages\\tensorflow\\python\\ops\\losses\\losses_impl.py:121: add_dispatch_support.<locals>.wrapper (from tensorflow.python.ops.array_ops) is deprecated and will be removed in a future version.\n",
      "Instructions for updating:\n",
      "Use tf.where in 2.0, which has the same broadcast rule as np.where\n"
     ]
    }
   ],
   "source": [
    "#CREATING MEAN LOSS FUNCTION TO TRACK PERFORMANCE OF OUR ALGO\n",
    "#CREATING GRADIENT DESCENT OPTIMIZER AND MINIMIZING THE MEAN LOSS FUNCTION \n",
    "\n",
    "mean_loss = tf.losses.mean_squared_error(labels=targets,predictions=outputs)/2.\n",
    "optimizer = tf.train.GradientDescentOptimizer(learning_rate=0.05).minimize(mean_loss)"
   ]
  },
  {
   "cell_type": "code",
   "execution_count": 5,
   "metadata": {},
   "outputs": [],
   "source": [
    "sess=tf.InteractiveSession()"
   ]
  },
  {
   "cell_type": "code",
   "execution_count": 6,
   "metadata": {},
   "outputs": [],
   "source": [
    "#INITIALIZING ALL THE VARIABLES ( IN THIS CASE ONLY WEIGHTS AND BIASES )\n",
    "\n",
    "variables_initializer = tf.global_variables_initializer()\n",
    "sess.run(variables_initializer)"
   ]
  },
  {
   "cell_type": "code",
   "execution_count": 7,
   "metadata": {
    "scrolled": true
   },
   "outputs": [
    {
     "name": "stdout",
     "output_type": "stream",
     "text": [
      "240.51837\n",
      "158.45078\n",
      "107.175644\n",
      "74.11489\n",
      "52.24564\n",
      "37.481335\n",
      "27.349043\n",
      "20.29984\n",
      "15.335643\n",
      "11.798964\n",
      "9.249243\n",
      "7.3876796\n",
      "6.0096574\n",
      "4.974096\n",
      "4.1831274\n",
      "3.5685182\n",
      "3.0824609\n",
      "2.691272\n",
      "2.3710837\n",
      "2.104855\n",
      "1.8803277\n",
      "1.6885893\n",
      "1.5230883\n",
      "1.3789419\n",
      "1.2524616\n",
      "1.1408105\n",
      "1.0417725\n",
      "0.9535829\n",
      "0.8748155\n",
      "0.8042956\n",
      "0.74104273\n",
      "0.68422586\n",
      "0.6331328\n",
      "0.5871478\n",
      "0.5457315\n",
      "0.5084119\n",
      "0.4747697\n",
      "0.4444333\n",
      "0.41707152\n",
      "0.3923888\n",
      "0.37011907\n",
      "0.35002452\n",
      "0.33189067\n",
      "0.3155262\n",
      "0.3007571\n",
      "0.28742763\n",
      "0.27539673\n",
      "0.26453802\n",
      "0.25473738\n",
      "0.2458906\n",
      "0.2379057\n",
      "0.23069832\n",
      "0.22419271\n",
      "0.21832071\n",
      "0.21302046\n",
      "0.20823623\n",
      "0.20391765\n",
      "0.20001972\n",
      "0.19650121\n",
      "0.1933251\n",
      "0.19045834\n",
      "0.1878707\n",
      "0.18553492\n",
      "0.1834266\n",
      "0.18152352\n",
      "0.17980582\n",
      "0.17825526\n",
      "0.17685576\n",
      "0.17559244\n",
      "0.17445202\n",
      "0.17342271\n",
      "0.17249359\n",
      "0.17165497\n",
      "0.17089799\n",
      "0.1702147\n",
      "0.16959791\n",
      "0.1690412\n",
      "0.16853864\n",
      "0.16808501\n",
      "0.1676756\n",
      "0.167306\n",
      "0.16697241\n",
      "0.16667126\n",
      "0.16639948\n",
      "0.16615418\n",
      "0.16593271\n",
      "0.16573282\n",
      "0.16555235\n",
      "0.1653895\n",
      "0.16524251\n",
      "0.16510975\n",
      "0.16499\n",
      "0.16488187\n",
      "0.1647843\n",
      "0.16469619\n",
      "0.1646167\n",
      "0.16454493\n",
      "0.1644801\n",
      "0.16442166\n",
      "0.16436881\n"
     ]
    }
   ],
   "source": [
    "data=np.load('TF_INTRO.npz')\n",
    "for e in range (100):\n",
    "    _,loss = sess.run([optimizer,mean_loss],\n",
    "                     feed_dict={inputs:data['inputs'] , targets:data['targets']})\n",
    "    print(loss)"
   ]
  },
  {
   "cell_type": "code",
   "execution_count": 8,
   "metadata": {},
   "outputs": [
    {
     "data": {
      "image/png": "[encoded data removed]",
      "text/plain": [
       "<Figure size 432x288 with 1 Axes>"
      ]
     },
     "metadata": {
      "needs_background": "light"
     },
     "output_type": "display_data"
    }
   ],
   "source": [
    "out=sess.run([outputs],feed_dict={inputs:data['inputs']})\n",
    "plt.plot(data['targets'],np.squeeze(out))\n",
    "plt.xlabel('targets')\n",
    "plt.ylabel('outputs from algo')\n",
    "plt.show()"
   ]
  },
  {
   "cell_type": "code",
   "execution_count": 9,
   "metadata": {},
   "outputs": [
    {
     "data": {
      "text/plain": [
       "array([[ 2.001999 ],\n",
       "       [-3.0008721]], dtype=float32)"
      ]
     },
     "execution_count": 9,
     "metadata": {},
     "output_type": "execute_result"
    }
   ],
   "source": [
    "sess.run(weights)\n"
   ]
  },
  {
   "cell_type": "code",
   "execution_count": 10,
   "metadata": {},
   "outputs": [
    {
     "data": {
      "text/plain": [
       "array([4.961202], dtype=float32)"
      ]
     },
     "execution_count": 10,
     "metadata": {},
     "output_type": "execute_result"
    }
   ],
   "source": [
    "sess.run(biases)"
   ]
  },
  {
   "cell_type": "code",
   "execution_count": null,
   "metadata": {},
   "outputs": [],
   "source": []
  }
 ],
 "metadata": {
  "kernelspec": {
   "display_name": "Python 3",
   "language": "python",
   "name": "python3"
  },
  "language_info": {
   "codemirror_mode": {
    "name": "ipython",
    "version": 3
   },
   "file_extension": ".py",
   "mimetype": "text/x-python",
   "name": "python",
   "nbconvert_exporter": "python",
   "pygments_lexer": "ipython3",
   "version": "3.7.1"
  }
 },
 "nbformat": 4,
 "nbformat_minor": 2
}
