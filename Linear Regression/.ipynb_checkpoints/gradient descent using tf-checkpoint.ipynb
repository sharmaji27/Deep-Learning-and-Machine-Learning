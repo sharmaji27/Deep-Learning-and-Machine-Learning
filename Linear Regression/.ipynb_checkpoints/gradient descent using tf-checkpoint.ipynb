{
 "cells": [
  {
   "cell_type": "code",
   "execution_count": 2,
   "metadata": {},
   "outputs": [],
   "source": [
    "import numpy as np\n",
    "import tensorflow as tf\n",
    "import matplotlib.pyplot as plt"
   ]
  },
  {
   "cell_type": "code",
   "execution_count": 5,
   "metadata": {},
   "outputs": [
    {
     "name": "stdout",
     "output_type": "stream",
     "text": [
      "(1000, 2) (1000, 1)\n"
     ]
    }
   ],
   "source": [
    "#GENERATING INPUTS AND OUTPUTS AND SAVING IN npz FORMAT\n",
    "\n",
    "observations=1000\n",
    "xs=np.random.uniform(-10,10,(observations,1))\n",
    "zs=np.random.uniform(-10,10,(observations,1))\n",
    "generated_input = np.column_stack((xs,zs))\n",
    "noise=np.random.uniform(-1,1,(observations,1))\n",
    "generated_targets=2*xs-3*zs+5+noise\n",
    "np.savez('TF_INTRO',inputs=generated_input,targets=generated_targets)\n",
    "\n",
    "print(generated_input.shape,generated_targets.shape)"
   ]
  },
  {
   "cell_type": "code",
   "execution_count": null,
   "metadata": {},
   "outputs": [],
   "source": [
    "# CREATING PLACEHOLDERS FOR INPUTS AND OUTPUTS AND INITIALIZING WEIGHTS AND BIASES\n",
    "\n",
    "input_columns=2\n",
    "output_columns=1\n",
    "\n",
    "inputs = tf.placeholder(tf.float32,[None,input_columns])\n",
    "targets = tf.placeholder(tf.float32,[None,output_columns])\n",
    "\n",
    "weights=tf.Variable(tf.random_uniform([input_columns,output_columns],minval=-0.1,maxval=0.1))\n",
    "biases=tf.Variable(tf.random_uniform([output_columns],minval=-0.1,maxval=0.1))\n",
    "\n",
    "outputs=tf.matmul(inputs,weights)+biases\n"
   ]
  }
 ],
 "metadata": {
  "kernelspec": {
   "display_name": "Python 3",
   "language": "python",
   "name": "python3"
  },
  "language_info": {
   "codemirror_mode": {
    "name": "ipython",
    "version": 3
   },
   "file_extension": ".py",
   "mimetype": "text/x-python",
   "name": "python",
   "nbconvert_exporter": "python",
   "pygments_lexer": "ipython3",
   "version": "3.7.1"
  }
 },
 "nbformat": 4,
 "nbformat_minor": 2
}
