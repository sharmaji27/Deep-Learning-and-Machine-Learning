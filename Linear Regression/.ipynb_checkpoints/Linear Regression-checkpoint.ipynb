{
 "cells": [
  {
   "cell_type": "code",
   "execution_count": 14,
   "metadata": {},
   "outputs": [],
   "source": [
    "import numpy as np\n",
    "import tensorflow as tf\n",
    "import matplotlib.pyplot as plt"
   ]
  },
  {
   "cell_type": "code",
   "execution_count": 24,
   "metadata": {},
   "outputs": [
    {
     "name": "stdout",
     "output_type": "stream",
     "text": [
      "(1000, 2) (1000, 1)\n"
     ]
    }
   ],
   "source": [
    "#GENERATING INPUTS AND OUTPUTS AND SAVING IN npz FORMAT\n",
    "\n",
    "observations=1000\n",
    "xs=np.random.uniform(-10,10,(observations,1))\n",
    "zs=np.random.uniform(-10,10,(observations,1))\n",
    "generated_input = np.column_stack((xs,zs))\n",
    "noise=np.random.uniform(-1,1,(observations,1))\n",
    "generated_targets=2*xs-3*zs+5+noise\n",
    "np.savez('TF_INTRO',inputs=generated_input,targets=generated_targets)\n",
    "\n",
    "\n",
    "print(generated_input.shape,generated_targets.shape)"
   ]
  },
  {
   "cell_type": "code",
   "execution_count": 16,
   "metadata": {},
   "outputs": [],
   "source": [
    "# CREATING PLACEHOLDERS FOR INPUTS AND OUTPUTS AND INITIALIZING WEIGHTS AND BIASES\n",
    "\n",
    "input_columns=2\n",
    "output_columns=1\n",
    "\n",
    "inputs = tf.placeholder(tf.float32,[None,input_columns])\n",
    "targets = tf.placeholder(tf.float32,[None,output_columns])\n",
    "\n",
    "weights=tf.Variable(tf.random_uniform([input_columns,output_columns],minval=-0.1,maxval=0.1))\n",
    "biases=tf.Variable(tf.random_uniform([output_columns],minval=-0.1,maxval=0.1))\n",
    "\n",
    "outputs=tf.matmul(inputs,weights)+biases\n"
   ]
  },
  {
   "cell_type": "code",
   "execution_count": 25,
   "metadata": {},
   "outputs": [],
   "source": [
    "#CREATING MEAN LOSS FUNCTION TO TRACK PERFORMANCE OF OUR ALGO\n",
    "#CREATING GRADIENT DESCENT OPTIMIZER AND MINIMIZING THE MEAN LOSS FUNCTION \n",
    "\n",
    "mean_loss = tf.losses.mean_squared_error(labels=targets,predictions=outputs)/2.\n",
    "optimizer = tf.train.GradientDescentOptimizer(learning_rate=0.05).minimize(mean_loss)"
   ]
  },
  {
   "cell_type": "code",
   "execution_count": 26,
   "metadata": {},
   "outputs": [],
   "source": [
    "sess=tf.InteractiveSession()"
   ]
  },
  {
   "cell_type": "code",
   "execution_count": 27,
   "metadata": {},
   "outputs": [],
   "source": [
    "#INITIALIZING ALL THE VARIABLES ( IN THIS CASE ONLY WEIGHTS AND BIASES )\n",
    "\n",
    "variables_initializer = tf.global_variables_initializer()\n",
    "sess.run(variables_initializer)"
   ]
  },
  {
   "cell_type": "code",
   "execution_count": 28,
   "metadata": {},
   "outputs": [
    {
     "name": "stdout",
     "output_type": "stream",
     "text": [
      "252.12419\n",
      "138.20747\n",
      "78.1232\n",
      "45.83223\n",
      "28.162304\n",
      "18.301046\n",
      "12.663414\n",
      "9.337236\n",
      "7.291957\n",
      "5.96745\n",
      "5.0569715\n",
      "4.3912196\n",
      "3.8758528\n",
      "3.4576159\n",
      "3.1058848\n",
      "2.8025646\n",
      "2.5365667\n",
      "2.3007514\n",
      "2.0902545\n",
      "1.9015542\n",
      "1.7319461\n",
      "1.5792503\n",
      "1.4416442\n",
      "1.3175606\n",
      "1.205629\n",
      "1.1046375\n",
      "1.013504\n",
      "0.9312593\n",
      "0.85703254\n",
      "0.79003966\n",
      "0.72957546\n",
      "0.6750015\n",
      "0.6257455\n",
      "0.5812877\n",
      "0.5411615\n",
      "0.5049436\n",
      "0.47225472\n",
      "0.44274977\n",
      "0.41611952\n",
      "0.39208332\n",
      "0.37038863\n",
      "0.3508075\n",
      "0.33313403\n",
      "0.31718206\n",
      "0.3027841\n",
      "0.28978893\n",
      "0.27805963\n",
      "0.2674729\n",
      "0.2579175\n",
      "0.24929306\n",
      "0.24150883\n",
      "0.23448268\n",
      "0.22814122\n",
      "0.22241732\n",
      "0.21725123\n",
      "0.21258812\n",
      "0.20837952\n",
      "0.20458083\n",
      "0.20115234\n",
      "0.19805768\n",
      "0.19526465\n",
      "0.19274355\n",
      "0.19046827\n",
      "0.18841447\n",
      "0.1865607\n",
      "0.18488759\n",
      "0.18337747\n",
      "0.18201444\n",
      "0.18078424\n",
      "0.1796738\n",
      "0.1786716\n",
      "0.17776701\n",
      "0.17695057\n",
      "0.17621362\n",
      "0.17554851\n",
      "0.17494817\n",
      "0.17440628\n",
      "0.17391717\n",
      "0.1734758\n",
      "0.17307736\n",
      "0.17271776\n",
      "0.17239322\n",
      "0.17210029\n",
      "0.17183587\n",
      "0.17159723\n",
      "0.1713818\n",
      "0.17118737\n",
      "0.17101188\n",
      "0.17085351\n",
      "0.17071052\n",
      "0.17058152\n",
      "0.1704651\n",
      "0.17035995\n",
      "0.17026511\n",
      "0.17017941\n",
      "0.1701021\n",
      "0.1700324\n",
      "0.16996945\n",
      "0.16991258\n",
      "0.16986133\n"
     ]
    }
   ],
   "source": [
    "data=np.load('TF_INTRO.npz')\n",
    "for e in range (100):\n",
    "    _,loss = sess.run([optimizer,mean_loss],\n",
    "                     feed_dict={inputs:data['inputs'] , targets:data['targets']})\n",
    "    print(loss)"
   ]
  },
  {
   "cell_type": "code",
   "execution_count": 35,
   "metadata": {},
   "outputs": [
    {
     "data": {
      "image/png": "[encoded data removed]",
      "text/plain": [
       "<Figure size 432x288 with 1 Axes>"
      ]
     },
     "metadata": {
      "needs_background": "light"
     },
     "output_type": "display_data"
    }
   ],
   "source": [
    "out=sess.run([outputs],feed_dict={inputs:data['inputs']})\n",
    "plt.plot(data['targets'],np.squeeze(out))\n",
    "plt.xlabel('targets')\n",
    "plt.ylabel('outputs from algo')\n",
    "plt.show()"
   ]
  },
  {
   "cell_type": "code",
   "execution_count": 12,
   "metadata": {},
   "outputs": [
    {
     "data": {
      "text/plain": [
       "array([[ 1.999821 ],\n",
       "       [-3.0034895]], dtype=float32)"
      ]
     },
     "execution_count": 12,
     "metadata": {},
     "output_type": "execute_result"
    }
   ],
   "source": [
    "sess.run(weights)\n"
   ]
  },
  {
   "cell_type": "code",
   "execution_count": 13,
   "metadata": {},
   "outputs": [
    {
     "data": {
      "text/plain": [
       "array([4.9634204], dtype=float32)"
      ]
     },
     "execution_count": 13,
     "metadata": {},
     "output_type": "execute_result"
    }
   ],
   "source": [
    "sess.run(biases)"
   ]
  },
  {
   "cell_type": "code",
   "execution_count": null,
   "metadata": {},
   "outputs": [],
   "source": []
  }
 ],
 "metadata": {
  "kernelspec": {
   "display_name": "Python 3",
   "language": "python",
   "name": "python3"
  },
  "language_info": {
   "codemirror_mode": {
    "name": "ipython",
    "version": 3
   },
   "file_extension": ".py",
   "mimetype": "text/x-python",
   "name": "python",
   "nbconvert_exporter": "python",
   "pygments_lexer": "ipython3",
   "version": "3.7.1"
  }
 },
 "nbformat": 4,
 "nbformat_minor": 2
}
