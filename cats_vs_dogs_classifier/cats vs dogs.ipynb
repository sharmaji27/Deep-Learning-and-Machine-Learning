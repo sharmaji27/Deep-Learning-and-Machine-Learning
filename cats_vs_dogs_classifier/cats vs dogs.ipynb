{
 "cells": [
  {
   "cell_type": "code",
   "execution_count": 1,
   "metadata": {},
   "outputs": [],
   "source": [
    "# importing packages\n",
    "import cv2\n",
    "import numpy as np\n",
    "import matplotlib.pyplot as plt\n",
    "import os\n",
    "import shutil\n",
    "%matplotlib inline"
   ]
  },
  {
   "cell_type": "code",
   "execution_count": 2,
   "metadata": {},
   "outputs": [
    {
     "name": "stdout",
     "output_type": "stream",
     "text": [
      "training and test data saved !!!\n",
      "2002\n",
      "2002\n",
      "1000\n",
      "1000\n"
     ]
    }
   ],
   "source": [
    "path = 'catsvsdogs\\\\images\\\\'\n",
    "size = 150\n",
    "\n",
    "training_images = [] \n",
    "test_images = []\n",
    "training_labels = []\n",
    "test_labels = []\n",
    "\n",
    "def make_directory(directory):\n",
    "    if os.path.exists(directory):\n",
    "        shutil.rmtree(directory)\n",
    "    os.makedirs(directory)\n",
    "\n",
    "make_directory('dataset\\\\train\\\\cats')\n",
    "make_directory('dataset\\\\train\\\\dogs')\n",
    "make_directory('dataset\\\\test\\\\cats')\n",
    "make_directory('dataset\\\\test\\\\dogs')\n",
    "make_directory('npz-data')\n",
    "\n",
    "for pic in os.listdir(path):\n",
    "    if pic.split('.')[0]=='cat':\n",
    "        if int(pic.split('.')[1])<=1000:\n",
    "            img = cv2.imread(path+pic)\n",
    "            img = cv2.resize(img,(size,size),interpolation = cv2.INTER_AREA)\n",
    "            training_images.append(img)\n",
    "            training_labels.append(0)\n",
    "            cv2.imwrite('dataset\\\\train\\\\cats\\\\cats{}.jpg'.format(pic.split('.')[1]) , img)\n",
    "        else:\n",
    "            img = cv2.imread(path+pic)\n",
    "            img = cv2.resize(img,(size,size),interpolation = cv2.INTER_AREA)\n",
    "            test_images.append(img)\n",
    "            test_labels.append(0)\n",
    "            cv2.imwrite('dataset\\\\test\\\\cats\\\\cats{}.jpg'.format(pic.split('.')[1]) , img)\n",
    "            \n",
    "    elif pic.split('.')[0]=='dog':\n",
    "        if int(pic.split('.')[1])<=1000:\n",
    "            img = cv2.imread(path+pic)\n",
    "            img = cv2.resize(img,(size,size),interpolation = cv2.INTER_AREA)\n",
    "            training_images.append(img)\n",
    "            training_labels.append(1)\n",
    "            cv2.imwrite('dataset\\\\train\\\\dogs\\\\dogs{}.jpg'.format(pic.split('.')[1]) , img)\n",
    "        else:\n",
    "            img = cv2.imread(path+pic)\n",
    "            img = cv2.resize(img,(size,size),interpolation = cv2.INTER_AREA)\n",
    "            test_images.append(img)\n",
    "            test_labels.append(1)\n",
    "            cv2.imwrite('dataset\\\\test\\\\dogs\\\\dogs{}.jpg'.format(pic.split('.')[1]) , img)\n",
    "            \n",
    "\n",
    "np.savez('npz-data\\\\training_images',training_images)\n",
    "np.savez('npz-data\\\\test_images',test_images)\n",
    "np.savez('npz-data\\\\training_labels',training_labels)\n",
    "np.savez('npz-data\\\\test_labels',test_labels)\n",
    "\n",
    "print('training and test data saved !!!')\n",
    "print(len(training_images))\n",
    "print(len(training_labels))\n",
    "print(len(test_images))\n",
    "print(len(test_labels))"
   ]
  },
  {
   "cell_type": "code",
   "execution_count": 3,
   "metadata": {},
   "outputs": [],
   "source": [
    "def load_training_and_test_data():\n",
    "    train_X = np.load('npz-data\\\\training_images.npz')['arr_0']\n",
    "    train_y = np.load('npz-data\\\\training_labels.npz')['arr_0']\n",
    "    test_X = np.load('npz-data\\\\test_images.npz')['arr_0']\n",
    "    test_y = np.load('npz-data\\\\test_labels.npz')['arr_0']\n",
    "    \n",
    "    return train_X,train_y,test_X,test_y"
   ]
  },
  {
   "cell_type": "code",
   "execution_count": 4,
   "metadata": {},
   "outputs": [
    {
     "name": "stdout",
     "output_type": "stream",
     "text": [
      "dog\n",
      "dog\n",
      "cat\n",
      "dog\n",
      "dog\n",
      "cat\n",
      "cat\n",
      "dog\n",
      "cat\n",
      "dog\n"
     ]
    }
   ],
   "source": [
    "# Just checking our data\n",
    "for i in range (1,11):\n",
    "    random_index = np.random.randint(0,len(training_images))\n",
    "    cv2.imshow('image '+str(random_index),training_images[random_index])\n",
    "    if training_labels[random_index]==1:\n",
    "        print('dog')\n",
    "    else:\n",
    "        print('cat')\n",
    "    cv2.waitKey(0)\n",
    "cv2.destroyAllWindows()"
   ]
  },
  {
   "cell_type": "code",
   "execution_count": 5,
   "metadata": {},
   "outputs": [
    {
     "name": "stdout",
     "output_type": "stream",
     "text": [
      "(2002, 150, 150, 3)\n",
      "(2002, 1)\n",
      "(1000, 150, 150, 3)\n",
      "(1000, 1)\n"
     ]
    }
   ],
   "source": [
    "train_X,train_y,test_X,test_y = load_training_and_test_data()\n",
    "\n",
    "# Converting (20002,) to (2002,1)\n",
    "train_y = train_y.reshape(train_y.shape[0],1)\n",
    "test_y = test_y.reshape(test_y.shape[0],1)\n",
    "\n",
    "#Normalizing our data in 0 to 1 range\n",
    "train_X  = train_X.astype('float32')\n",
    "test_X   = test_X.astype('float32')\n",
    "train_X /= 255\n",
    "test_X  /= 255\n",
    "\n",
    "print(train_X.shape)\n",
    "print(train_y.shape)\n",
    "print(test_X.shape)\n",
    "print(test_y.shape)"
   ]
  },
  {
   "cell_type": "code",
   "execution_count": 6,
   "metadata": {},
   "outputs": [
    {
     "name": "stderr",
     "output_type": "stream",
     "text": [
      "Using TensorFlow backend.\n",
      "WARNING: Logging before flag parsing goes to stderr.\n",
      "W1113 11:51:26.092553 14836 deprecation_wrapper.py:119] From C:\\Users\\sharma ji\\AppData\\Roaming\\Python\\Python37\\site-packages\\keras\\backend\\tensorflow_backend.py:4070: The name tf.nn.max_pool is deprecated. Please use tf.nn.max_pool2d instead.\n",
      "\n",
      "W1113 11:51:26.244696 14836 deprecation.py:323] From C:\\Users\\sharma ji\\AppData\\Roaming\\Python\\Python37\\site-packages\\tensorflow\\python\\ops\\nn_impl.py:180: add_dispatch_support.<locals>.wrapper (from tensorflow.python.ops.array_ops) is deprecated and will be removed in a future version.\n",
      "Instructions for updating:\n",
      "Use tf.where in 2.0, which has the same broadcast rule as np.where\n"
     ]
    },
    {
     "name": "stdout",
     "output_type": "stream",
     "text": [
      "Model: \"sequential_1\"\n",
      "_________________________________________________________________\n",
      "Layer (type)                 Output Shape              Param #   \n",
      "=================================================================\n",
      "conv2d_1 (Conv2D)            (None, 148, 148, 32)      896       \n",
      "_________________________________________________________________\n",
      "max_pooling2d_1 (MaxPooling2 (None, 74, 74, 32)        0         \n",
      "_________________________________________________________________\n",
      "conv2d_2 (Conv2D)            (None, 72, 72, 64)        18496     \n",
      "_________________________________________________________________\n",
      "max_pooling2d_2 (MaxPooling2 (None, 36, 36, 64)        0         \n",
      "_________________________________________________________________\n",
      "conv2d_3 (Conv2D)            (None, 34, 34, 128)       73856     \n",
      "_________________________________________________________________\n",
      "max_pooling2d_3 (MaxPooling2 (None, 17, 17, 128)       0         \n",
      "_________________________________________________________________\n",
      "flatten_1 (Flatten)          (None, 36992)             0         \n",
      "_________________________________________________________________\n",
      "dense_1 (Dense)              (None, 64)                2367552   \n",
      "_________________________________________________________________\n",
      "dropout_1 (Dropout)          (None, 64)                0         \n",
      "_________________________________________________________________\n",
      "dense_2 (Dense)              (None, 1)                 65        \n",
      "=================================================================\n",
      "Total params: 2,460,865\n",
      "Trainable params: 2,460,865\n",
      "Non-trainable params: 0\n",
      "_________________________________________________________________\n",
      "None\n"
     ]
    }
   ],
   "source": [
    "# CNN model\n",
    "from __future__ import print_function\n",
    "from keras.models import Sequential\n",
    "from keras.layers import Conv2D,Dense,Flatten,Dropout,MaxPooling2D\n",
    "\n",
    "input_shape = (train_X.shape[1],train_X.shape[2],train_X.shape[3])\n",
    "\n",
    "model =Sequential()\n",
    "model.add(Conv2D(32,(3,3),activation='relu',input_shape=input_shape))\n",
    "model.add(MaxPooling2D(pool_size=(2,2)))\n",
    "\n",
    "model.add(Conv2D(64,(3,3),activation='relu'))\n",
    "model.add(MaxPooling2D(pool_size=(2,2)))\n",
    "\n",
    "model.add(Conv2D(128,(3,3),activation='relu'))\n",
    "model.add(MaxPooling2D(pool_size=(2,2)))\n",
    "\n",
    "model.add(Flatten())\n",
    "model.add(Dense(64,activation='relu'))\n",
    "model.add(Dropout(0.5))\n",
    "model.add(Dense(1,activation='sigmoid'))\n",
    "\n",
    "model.compile(loss=['binary_crossentropy'],\n",
    "             optimizer='rmsprop',\n",
    "             metrics=['accuracy'])\n",
    "\n",
    "print(model.summary())"
   ]
  },
  {
   "cell_type": "code",
   "execution_count": 7,
   "metadata": {},
   "outputs": [
    {
     "name": "stderr",
     "output_type": "stream",
     "text": [
      "W1113 11:51:33.782557 14836 deprecation_wrapper.py:119] From C:\\Users\\sharma ji\\AppData\\Roaming\\Python\\Python37\\site-packages\\keras\\backend\\tensorflow_backend.py:422: The name tf.global_variables is deprecated. Please use tf.compat.v1.global_variables instead.\n",
      "\n"
     ]
    },
    {
     "name": "stdout",
     "output_type": "stream",
     "text": [
      "Train on 2002 samples, validate on 1000 samples\n",
      "Epoch 1/25\n",
      "2002/2002 [==============================] - 50s 25ms/step - loss: 0.7191 - accuracy: 0.5215 - val_loss: 0.6694 - val_accuracy: 0.5920\n",
      "Epoch 2/25\n",
      "2002/2002 [==============================] - 49s 24ms/step - loss: 0.6555 - accuracy: 0.6419 - val_loss: 0.7104 - val_accuracy: 0.5580\n",
      "Epoch 3/25\n",
      "2002/2002 [==============================] - 45s 23ms/step - loss: 0.5957 - accuracy: 0.6713 - val_loss: 0.5764 - val_accuracy: 0.6820\n",
      "Epoch 4/25\n",
      "2002/2002 [==============================] - 41s 21ms/step - loss: 0.5538 - accuracy: 0.7358 - val_loss: 0.5748 - val_accuracy: 0.6970\n",
      "Epoch 5/25\n",
      "2002/2002 [==============================] - 44s 22ms/step - loss: 0.4965 - accuracy: 0.7677 - val_loss: 0.5707 - val_accuracy: 0.7070\n",
      "Epoch 6/25\n",
      "2002/2002 [==============================] - 40s 20ms/step - loss: 0.4495 - accuracy: 0.7882 - val_loss: 0.6855 - val_accuracy: 0.6450\n",
      "Epoch 7/25\n",
      "2002/2002 [==============================] - 39s 20ms/step - loss: 0.4084 - accuracy: 0.8217 - val_loss: 0.5771 - val_accuracy: 0.7120\n",
      "Epoch 8/25\n",
      "2002/2002 [==============================] - 43s 21ms/step - loss: 0.3538 - accuracy: 0.8501 - val_loss: 0.7613 - val_accuracy: 0.6820\n",
      "Epoch 9/25\n",
      "2002/2002 [==============================] - 41s 20ms/step - loss: 0.3155 - accuracy: 0.8711 - val_loss: 0.7618 - val_accuracy: 0.7160\n",
      "Epoch 10/25\n",
      "2002/2002 [==============================] - 41s 20ms/step - loss: 0.2684 - accuracy: 0.8846 - val_loss: 0.9302 - val_accuracy: 0.6420\n",
      "Epoch 11/25\n",
      "2002/2002 [==============================] - 42s 21ms/step - loss: 0.2559 - accuracy: 0.8946 - val_loss: 0.8504 - val_accuracy: 0.7180\n",
      "Epoch 12/25\n",
      "2002/2002 [==============================] - 55s 28ms/step - loss: 0.2081 - accuracy: 0.9191 - val_loss: 0.9293 - val_accuracy: 0.7230\n",
      "Epoch 13/25\n",
      "2002/2002 [==============================] - 53s 27ms/step - loss: 0.1985 - accuracy: 0.9236 - val_loss: 1.2153 - val_accuracy: 0.7270\n",
      "Epoch 14/25\n",
      "2002/2002 [==============================] - 47s 23ms/step - loss: 0.1732 - accuracy: 0.9331 - val_loss: 1.0782 - val_accuracy: 0.7300\n",
      "Epoch 15/25\n",
      "2002/2002 [==============================] - 42s 21ms/step - loss: 0.1794 - accuracy: 0.9456 - val_loss: 1.1446 - val_accuracy: 0.7030\n",
      "Epoch 16/25\n",
      "2002/2002 [==============================] - 41s 20ms/step - loss: 0.1535 - accuracy: 0.9466 - val_loss: 1.5068 - val_accuracy: 0.7140\n",
      "Epoch 17/25\n",
      "2002/2002 [==============================] - 42s 21ms/step - loss: 0.1269 - accuracy: 0.9525 - val_loss: 1.3904 - val_accuracy: 0.7150\n",
      "Epoch 18/25\n",
      "2002/2002 [==============================] - 40s 20ms/step - loss: 0.1634 - accuracy: 0.9496 - val_loss: 1.3846 - val_accuracy: 0.7100\n",
      "Epoch 19/25\n",
      "2002/2002 [==============================] - 44s 22ms/step - loss: 0.1406 - accuracy: 0.9570 - val_loss: 1.1735 - val_accuracy: 0.7160\n",
      "Epoch 20/25\n",
      "2002/2002 [==============================] - 43s 22ms/step - loss: 0.1054 - accuracy: 0.9615 - val_loss: 1.4390 - val_accuracy: 0.6960\n",
      "Epoch 21/25\n",
      "2002/2002 [==============================] - 39s 19ms/step - loss: 0.1185 - accuracy: 0.9650 - val_loss: 2.0620 - val_accuracy: 0.7180\n",
      "Epoch 22/25\n",
      "2002/2002 [==============================] - 42s 21ms/step - loss: 0.1234 - accuracy: 0.9590 - val_loss: 2.5585 - val_accuracy: 0.7170\n",
      "Epoch 23/25\n",
      "2002/2002 [==============================] - 44s 22ms/step - loss: 0.1295 - accuracy: 0.9605 - val_loss: 1.2397 - val_accuracy: 0.7030\n",
      "Epoch 24/25\n",
      "2002/2002 [==============================] - 43s 22ms/step - loss: 0.1717 - accuracy: 0.9510 - val_loss: 1.1707 - val_accuracy: 0.7150\n",
      "Epoch 25/25\n",
      "2002/2002 [==============================] - 41s 21ms/step - loss: 0.0869 - accuracy: 0.9715 - val_loss: 3.5332 - val_accuracy: 0.7140\n"
     ]
    },
    {
     "ename": "OSError",
     "evalue": "Unable to create file (unable to open file: name = 'model\\cats_vs_dogs_classifier_V1.h5', errno = 2, error message = 'No such file or directory', flags = 13, o_flags = 302)",
     "output_type": "error",
     "traceback": [
      "\u001b[1;31m---------------------------------------------------------------------------\u001b[0m",
      "\u001b[1;31mOSError\u001b[0m                                   Traceback (most recent call last)",
      "\u001b[1;32m<ipython-input-7-a4c35cd62d1c>\u001b[0m in \u001b[0;36m<module>\u001b[1;34m\u001b[0m\n\u001b[0;32m      9\u001b[0m                         shuffle=True)\n\u001b[0;32m     10\u001b[0m \u001b[1;33m\u001b[0m\u001b[0m\n\u001b[1;32m---> 11\u001b[1;33m \u001b[0mmodel\u001b[0m\u001b[1;33m.\u001b[0m\u001b[0msave\u001b[0m\u001b[1;33m(\u001b[0m\u001b[1;34m'model\\\\cats_vs_dogs_classifier_V1.h5'\u001b[0m\u001b[1;33m)\u001b[0m\u001b[1;33m\u001b[0m\u001b[1;33m\u001b[0m\u001b[0m\n\u001b[0m\u001b[0;32m     12\u001b[0m \u001b[1;33m\u001b[0m\u001b[0m\n\u001b[0;32m     13\u001b[0m \u001b[0mtest_loss\u001b[0m\u001b[1;33m,\u001b[0m\u001b[0mtest_accuracy\u001b[0m \u001b[1;33m=\u001b[0m \u001b[0mmodel\u001b[0m\u001b[1;33m.\u001b[0m\u001b[0mevaluate\u001b[0m\u001b[1;33m(\u001b[0m\u001b[0mtest_X\u001b[0m\u001b[1;33m,\u001b[0m\u001b[0mtest_y\u001b[0m\u001b[1;33m,\u001b[0m\u001b[0mverbose\u001b[0m\u001b[1;33m=\u001b[0m\u001b[1;36m1\u001b[0m\u001b[1;33m)\u001b[0m\u001b[1;33m\u001b[0m\u001b[1;33m\u001b[0m\u001b[0m\n",
      "\u001b[1;32m~\\AppData\\Roaming\\Python\\Python37\\site-packages\\keras\\engine\\network.py\u001b[0m in \u001b[0;36msave\u001b[1;34m(self, filepath, overwrite, include_optimizer)\u001b[0m\n\u001b[0;32m   1150\u001b[0m             \u001b[1;32mraise\u001b[0m \u001b[0mNotImplementedError\u001b[0m\u001b[1;33m\u001b[0m\u001b[1;33m\u001b[0m\u001b[0m\n\u001b[0;32m   1151\u001b[0m         \u001b[1;32mfrom\u001b[0m \u001b[1;33m.\u001b[0m\u001b[1;33m.\u001b[0m\u001b[0mmodels\u001b[0m \u001b[1;32mimport\u001b[0m \u001b[0msave_model\u001b[0m\u001b[1;33m\u001b[0m\u001b[1;33m\u001b[0m\u001b[0m\n\u001b[1;32m-> 1152\u001b[1;33m         \u001b[0msave_model\u001b[0m\u001b[1;33m(\u001b[0m\u001b[0mself\u001b[0m\u001b[1;33m,\u001b[0m \u001b[0mfilepath\u001b[0m\u001b[1;33m,\u001b[0m \u001b[0moverwrite\u001b[0m\u001b[1;33m,\u001b[0m \u001b[0minclude_optimizer\u001b[0m\u001b[1;33m)\u001b[0m\u001b[1;33m\u001b[0m\u001b[1;33m\u001b[0m\u001b[0m\n\u001b[0m\u001b[0;32m   1153\u001b[0m \u001b[1;33m\u001b[0m\u001b[0m\n\u001b[0;32m   1154\u001b[0m     \u001b[1;33m@\u001b[0m\u001b[0msaving\u001b[0m\u001b[1;33m.\u001b[0m\u001b[0mallow_write_to_gcs\u001b[0m\u001b[1;33m\u001b[0m\u001b[1;33m\u001b[0m\u001b[0m\n",
      "\u001b[1;32m~\\AppData\\Roaming\\Python\\Python37\\site-packages\\keras\\engine\\saving.py\u001b[0m in \u001b[0;36msave_wrapper\u001b[1;34m(obj, filepath, overwrite, *args, **kwargs)\u001b[0m\n\u001b[0;32m    447\u001b[0m                 \u001b[0mos\u001b[0m\u001b[1;33m.\u001b[0m\u001b[0mremove\u001b[0m\u001b[1;33m(\u001b[0m\u001b[0mtmp_filepath\u001b[0m\u001b[1;33m)\u001b[0m\u001b[1;33m\u001b[0m\u001b[1;33m\u001b[0m\u001b[0m\n\u001b[0;32m    448\u001b[0m         \u001b[1;32melse\u001b[0m\u001b[1;33m:\u001b[0m\u001b[1;33m\u001b[0m\u001b[1;33m\u001b[0m\u001b[0m\n\u001b[1;32m--> 449\u001b[1;33m             \u001b[0msave_function\u001b[0m\u001b[1;33m(\u001b[0m\u001b[0mobj\u001b[0m\u001b[1;33m,\u001b[0m \u001b[0mfilepath\u001b[0m\u001b[1;33m,\u001b[0m \u001b[0moverwrite\u001b[0m\u001b[1;33m,\u001b[0m \u001b[1;33m*\u001b[0m\u001b[0margs\u001b[0m\u001b[1;33m,\u001b[0m \u001b[1;33m**\u001b[0m\u001b[0mkwargs\u001b[0m\u001b[1;33m)\u001b[0m\u001b[1;33m\u001b[0m\u001b[1;33m\u001b[0m\u001b[0m\n\u001b[0m\u001b[0;32m    450\u001b[0m \u001b[1;33m\u001b[0m\u001b[0m\n\u001b[0;32m    451\u001b[0m     \u001b[1;32mreturn\u001b[0m \u001b[0msave_wrapper\u001b[0m\u001b[1;33m\u001b[0m\u001b[1;33m\u001b[0m\u001b[0m\n",
      "\u001b[1;32m~\\AppData\\Roaming\\Python\\Python37\\site-packages\\keras\\engine\\saving.py\u001b[0m in \u001b[0;36msave_model\u001b[1;34m(model, filepath, overwrite, include_optimizer)\u001b[0m\n\u001b[0;32m    538\u001b[0m             \u001b[1;32mif\u001b[0m \u001b[1;32mnot\u001b[0m \u001b[0mproceed\u001b[0m\u001b[1;33m:\u001b[0m\u001b[1;33m\u001b[0m\u001b[1;33m\u001b[0m\u001b[0m\n\u001b[0;32m    539\u001b[0m                 \u001b[1;32mreturn\u001b[0m\u001b[1;33m\u001b[0m\u001b[1;33m\u001b[0m\u001b[0m\n\u001b[1;32m--> 540\u001b[1;33m         \u001b[1;32mwith\u001b[0m \u001b[0mH5Dict\u001b[0m\u001b[1;33m(\u001b[0m\u001b[0mfilepath\u001b[0m\u001b[1;33m,\u001b[0m \u001b[0mmode\u001b[0m\u001b[1;33m=\u001b[0m\u001b[1;34m'w'\u001b[0m\u001b[1;33m)\u001b[0m \u001b[1;32mas\u001b[0m \u001b[0mh5dict\u001b[0m\u001b[1;33m:\u001b[0m\u001b[1;33m\u001b[0m\u001b[1;33m\u001b[0m\u001b[0m\n\u001b[0m\u001b[0;32m    541\u001b[0m             \u001b[0m_serialize_model\u001b[0m\u001b[1;33m(\u001b[0m\u001b[0mmodel\u001b[0m\u001b[1;33m,\u001b[0m \u001b[0mh5dict\u001b[0m\u001b[1;33m,\u001b[0m \u001b[0minclude_optimizer\u001b[0m\u001b[1;33m)\u001b[0m\u001b[1;33m\u001b[0m\u001b[1;33m\u001b[0m\u001b[0m\n\u001b[0;32m    542\u001b[0m     \u001b[1;32melif\u001b[0m \u001b[0mhasattr\u001b[0m\u001b[1;33m(\u001b[0m\u001b[0mfilepath\u001b[0m\u001b[1;33m,\u001b[0m \u001b[1;34m'write'\u001b[0m\u001b[1;33m)\u001b[0m \u001b[1;32mand\u001b[0m \u001b[0mcallable\u001b[0m\u001b[1;33m(\u001b[0m\u001b[0mfilepath\u001b[0m\u001b[1;33m.\u001b[0m\u001b[0mwrite\u001b[0m\u001b[1;33m)\u001b[0m\u001b[1;33m:\u001b[0m\u001b[1;33m\u001b[0m\u001b[1;33m\u001b[0m\u001b[0m\n",
      "\u001b[1;32m~\\AppData\\Roaming\\Python\\Python37\\site-packages\\keras\\utils\\io_utils.py\u001b[0m in \u001b[0;36m__init__\u001b[1;34m(self, path, mode)\u001b[0m\n\u001b[0;32m    189\u001b[0m             \u001b[0mself\u001b[0m\u001b[1;33m.\u001b[0m\u001b[0m_is_file\u001b[0m \u001b[1;33m=\u001b[0m \u001b[1;32mFalse\u001b[0m\u001b[1;33m\u001b[0m\u001b[1;33m\u001b[0m\u001b[0m\n\u001b[0;32m    190\u001b[0m         \u001b[1;32melif\u001b[0m \u001b[0misinstance\u001b[0m\u001b[1;33m(\u001b[0m\u001b[0mpath\u001b[0m\u001b[1;33m,\u001b[0m \u001b[0msix\u001b[0m\u001b[1;33m.\u001b[0m\u001b[0mstring_types\u001b[0m\u001b[1;33m)\u001b[0m \u001b[1;32mor\u001b[0m \u001b[0m_is_path_instance\u001b[0m\u001b[1;33m(\u001b[0m\u001b[0mpath\u001b[0m\u001b[1;33m)\u001b[0m\u001b[1;33m:\u001b[0m\u001b[1;33m\u001b[0m\u001b[1;33m\u001b[0m\u001b[0m\n\u001b[1;32m--> 191\u001b[1;33m             \u001b[0mself\u001b[0m\u001b[1;33m.\u001b[0m\u001b[0mdata\u001b[0m \u001b[1;33m=\u001b[0m \u001b[0mh5py\u001b[0m\u001b[1;33m.\u001b[0m\u001b[0mFile\u001b[0m\u001b[1;33m(\u001b[0m\u001b[0mpath\u001b[0m\u001b[1;33m,\u001b[0m \u001b[0mmode\u001b[0m\u001b[1;33m=\u001b[0m\u001b[0mmode\u001b[0m\u001b[1;33m)\u001b[0m\u001b[1;33m\u001b[0m\u001b[1;33m\u001b[0m\u001b[0m\n\u001b[0m\u001b[0;32m    192\u001b[0m             \u001b[0mself\u001b[0m\u001b[1;33m.\u001b[0m\u001b[0m_is_file\u001b[0m \u001b[1;33m=\u001b[0m \u001b[1;32mTrue\u001b[0m\u001b[1;33m\u001b[0m\u001b[1;33m\u001b[0m\u001b[0m\n\u001b[0;32m    193\u001b[0m         \u001b[1;32melif\u001b[0m \u001b[0misinstance\u001b[0m\u001b[1;33m(\u001b[0m\u001b[0mpath\u001b[0m\u001b[1;33m,\u001b[0m \u001b[0mdict\u001b[0m\u001b[1;33m)\u001b[0m\u001b[1;33m:\u001b[0m\u001b[1;33m\u001b[0m\u001b[1;33m\u001b[0m\u001b[0m\n",
      "\u001b[1;32m~\\AppData\\Roaming\\Python\\Python37\\site-packages\\h5py\\_hl\\files.py\u001b[0m in \u001b[0;36m__init__\u001b[1;34m(self, name, mode, driver, libver, userblock_size, swmr, rdcc_nslots, rdcc_nbytes, rdcc_w0, track_order, **kwds)\u001b[0m\n\u001b[0;32m    392\u001b[0m                 fid = make_fid(name, mode, userblock_size,\n\u001b[0;32m    393\u001b[0m                                \u001b[0mfapl\u001b[0m\u001b[1;33m,\u001b[0m \u001b[0mfcpl\u001b[0m\u001b[1;33m=\u001b[0m\u001b[0mmake_fcpl\u001b[0m\u001b[1;33m(\u001b[0m\u001b[0mtrack_order\u001b[0m\u001b[1;33m=\u001b[0m\u001b[0mtrack_order\u001b[0m\u001b[1;33m)\u001b[0m\u001b[1;33m,\u001b[0m\u001b[1;33m\u001b[0m\u001b[1;33m\u001b[0m\u001b[0m\n\u001b[1;32m--> 394\u001b[1;33m                                swmr=swmr)\n\u001b[0m\u001b[0;32m    395\u001b[0m \u001b[1;33m\u001b[0m\u001b[0m\n\u001b[0;32m    396\u001b[0m             \u001b[1;32mif\u001b[0m \u001b[0mswmr_support\u001b[0m\u001b[1;33m:\u001b[0m\u001b[1;33m\u001b[0m\u001b[1;33m\u001b[0m\u001b[0m\n",
      "\u001b[1;32m~\\AppData\\Roaming\\Python\\Python37\\site-packages\\h5py\\_hl\\files.py\u001b[0m in \u001b[0;36mmake_fid\u001b[1;34m(name, mode, userblock_size, fapl, fcpl, swmr)\u001b[0m\n\u001b[0;32m    174\u001b[0m         \u001b[0mfid\u001b[0m \u001b[1;33m=\u001b[0m \u001b[0mh5f\u001b[0m\u001b[1;33m.\u001b[0m\u001b[0mcreate\u001b[0m\u001b[1;33m(\u001b[0m\u001b[0mname\u001b[0m\u001b[1;33m,\u001b[0m \u001b[0mh5f\u001b[0m\u001b[1;33m.\u001b[0m\u001b[0mACC_EXCL\u001b[0m\u001b[1;33m,\u001b[0m \u001b[0mfapl\u001b[0m\u001b[1;33m=\u001b[0m\u001b[0mfapl\u001b[0m\u001b[1;33m,\u001b[0m \u001b[0mfcpl\u001b[0m\u001b[1;33m=\u001b[0m\u001b[0mfcpl\u001b[0m\u001b[1;33m)\u001b[0m\u001b[1;33m\u001b[0m\u001b[1;33m\u001b[0m\u001b[0m\n\u001b[0;32m    175\u001b[0m     \u001b[1;32melif\u001b[0m \u001b[0mmode\u001b[0m \u001b[1;33m==\u001b[0m \u001b[1;34m'w'\u001b[0m\u001b[1;33m:\u001b[0m\u001b[1;33m\u001b[0m\u001b[1;33m\u001b[0m\u001b[0m\n\u001b[1;32m--> 176\u001b[1;33m         \u001b[0mfid\u001b[0m \u001b[1;33m=\u001b[0m \u001b[0mh5f\u001b[0m\u001b[1;33m.\u001b[0m\u001b[0mcreate\u001b[0m\u001b[1;33m(\u001b[0m\u001b[0mname\u001b[0m\u001b[1;33m,\u001b[0m \u001b[0mh5f\u001b[0m\u001b[1;33m.\u001b[0m\u001b[0mACC_TRUNC\u001b[0m\u001b[1;33m,\u001b[0m \u001b[0mfapl\u001b[0m\u001b[1;33m=\u001b[0m\u001b[0mfapl\u001b[0m\u001b[1;33m,\u001b[0m \u001b[0mfcpl\u001b[0m\u001b[1;33m=\u001b[0m\u001b[0mfcpl\u001b[0m\u001b[1;33m)\u001b[0m\u001b[1;33m\u001b[0m\u001b[1;33m\u001b[0m\u001b[0m\n\u001b[0m\u001b[0;32m    177\u001b[0m     \u001b[1;32melif\u001b[0m \u001b[0mmode\u001b[0m \u001b[1;33m==\u001b[0m \u001b[1;34m'a'\u001b[0m\u001b[1;33m:\u001b[0m\u001b[1;33m\u001b[0m\u001b[1;33m\u001b[0m\u001b[0m\n\u001b[0;32m    178\u001b[0m         \u001b[1;31m# Open in append mode (read/write).\u001b[0m\u001b[1;33m\u001b[0m\u001b[1;33m\u001b[0m\u001b[1;33m\u001b[0m\u001b[0m\n",
      "\u001b[1;32mh5py\\_objects.pyx\u001b[0m in \u001b[0;36mh5py._objects.with_phil.wrapper\u001b[1;34m()\u001b[0m\n",
      "\u001b[1;32mh5py\\_objects.pyx\u001b[0m in \u001b[0;36mh5py._objects.with_phil.wrapper\u001b[1;34m()\u001b[0m\n",
      "\u001b[1;32mh5py\\h5f.pyx\u001b[0m in \u001b[0;36mh5py.h5f.create\u001b[1;34m()\u001b[0m\n",
      "\u001b[1;31mOSError\u001b[0m: Unable to create file (unable to open file: name = 'model\\cats_vs_dogs_classifier_V1.h5', errno = 2, error message = 'No such file or directory', flags = 13, o_flags = 302)"
     ]
    }
   ],
   "source": [
    "batch_size = 16\n",
    "epochs = 25\n",
    "\n",
    "classifier = model.fit( train_X,\n",
    "                        train_y,\n",
    "                        batch_size=batch_size,\n",
    "                        epochs=epochs,\n",
    "                        validation_data=(test_X,test_y),\n",
    "                        shuffle=True)\n",
    "\n"
   ]
  },
  {
   "cell_type": "code",
   "execution_count": 9,
   "metadata": {},
   "outputs": [
    {
     "name": "stdout",
     "output_type": "stream",
     "text": [
      "1000/1000 [==============================] - 4s 4ms/step\n",
      "Test Loss --->  3.5332479276657103\n",
      "Test Accuray --->  71.39999866485596\n"
     ]
    }
   ],
   "source": [
    "model.save('model\\\\cats_vs_dogs_classifier_V1.h5')\n",
    "\n",
    "test_loss,test_accuracy = model.evaluate(test_X,test_y,verbose=1)\n",
    "print('Test Loss ---> ',test_loss)\n",
    "print('Test Accuray ---> ',test_accuracy*100)"
   ]
  },
  {
   "cell_type": "code",
   "execution_count": 38,
   "metadata": {},
   "outputs": [
    {
     "name": "stdout",
     "output_type": "stream",
     "text": [
      "accuracy is --->  100.0\n"
     ]
    }
   ],
   "source": [
    "# Testing our model\n",
    "from keras.models import load_model\n",
    "classifier = load_model('model\\\\cats_vs_dogs_classifier_V1.h5')\n",
    "BLACK=[0,0,0]\n",
    "acc=[]\n",
    "for i in range(0,10):\n",
    "    random_index = np.random.randint(0,len(test_X))\n",
    "    test_img = test_X[random_index]\n",
    "    test_large = cv2.resize(test_img,None,fx=2,fy=2,interpolation=cv2.INTER_CUBIC)\n",
    "    test_img = test_img.reshape(1,150,150,3)\n",
    "    res = (classifier.predict_classes(test_img,1,verbose=0)[0])\n",
    "    acc.append(np.equal(res[0],test_labels[random_index]))\n",
    "    \n",
    "    if res==[0]:\n",
    "        res='cat'\n",
    "    else :\n",
    "        res='dog'\n",
    "    \n",
    "    test_large = cv2.copyMakeBorder(test_large,0,0,0,200,cv2.BORDER_CONSTANT,value=BLACK)\n",
    "    cv2.putText(test_large,text=res,org=(300,105),fontScale=2,thickness=2,fontFace=cv2.FONT_HERSHEY_TRIPLEX,color=(0,255,0))\n",
    "    cv2.imshow('predictions',test_large)\n",
    "    cv2.waitKey(0)\n",
    "cv2.destroyAllWindows()\n",
    "print('accuracy is ---> ',round(np.mean(acc)*100,2))"
   ]
  },
  {
   "cell_type": "markdown",
   "metadata": {},
   "source": [
    "# DATA AUGMENTATION"
   ]
  },
  {
   "cell_type": "code",
   "execution_count": 43,
   "metadata": {},
   "outputs": [],
   "source": [
    "from keras.preprocessing.image import ImageDataGenerator,load_img,img_to_array\n",
    "\n",
    "data_generator = ImageDataGenerator(rotation_range=40,\n",
    "                                             height_shift_range=0.2,\n",
    "                                             width_shift_range=0.2,\n",
    "                                             horizontal_flip=True,\n",
    "                                             shear_range=0.2,\n",
    "                                             fill_mode='nearest',\n",
    "                                             zoom_range=0.2)\n",
    "img = load_img('dog.jpg')\n",
    "img = img_to_array(img)\n",
    "img = img.reshape((1,)+img.shape)\n",
    "i=0\n",
    "for batch in data_generator.flow(img,save_to_dir='output',save_prefix='dog',save_format='jpeg'):\n",
    "    i+=1\n",
    "    if i>35:\n",
    "        break"
   ]
  },
  {
   "cell_type": "code",
   "execution_count": 46,
   "metadata": {},
   "outputs": [
    {
     "name": "stdout",
     "output_type": "stream",
     "text": [
      "Found 2002 images belonging to 2 classes.\n",
      "Found 1000 images belonging to 2 classes.\n"
     ]
    }
   ],
   "source": [
    "input_shape = (150, 150, 3)\n",
    "img_width = 150\n",
    "img_height = 150\n",
    "\n",
    "nb_train_samples = 2000\n",
    "nb_validation_samples = 1000\n",
    "batch_size = 16\n",
    "epochs = 25\n",
    "\n",
    "\n",
    "train_data_dir = 'dataset/train'\n",
    "test_data_dir  = 'dataset/test'\n",
    "\n",
    "train_data_generator = ImageDataGenerator(   rescale = 1. / 255,\n",
    "                                             rotation_range=40,\n",
    "                                             height_shift_range=0.2,\n",
    "                                             width_shift_range=0.2,\n",
    "                                             horizontal_flip=True,\n",
    "                                             fill_mode='nearest',\n",
    "                                             zoom_range=0.2)\n",
    "\n",
    "test_data_generator = ImageDataGenerator(rescale = 1. / 255)\n",
    "\n",
    "train_generator = train_data_generator.flow_from_directory(train_data_dir,\n",
    "                                                          target_size = (img_width,img_height), \n",
    "                                                          batch_size = batch_size,\n",
    "                                                          class_mode = 'binary',\n",
    "                                                           shuffle = True)\n",
    "\n",
    "test_generator = test_data_generator.flow_from_directory(test_data_dir,\n",
    "                                                          target_size = (img_width,img_height), \n",
    "                                                          batch_size = batch_size,\n",
    "                                                          class_mode = 'binary',\n",
    "                                                           shuffle = False)\n",
    "\n"
   ]
  },
  {
   "cell_type": "markdown",
   "metadata": {},
   "source": [
    "# CREATING MODEL SAME AS WE DID ABOVE"
   ]
  },
  {
   "cell_type": "code",
   "execution_count": 51,
   "metadata": {
    "scrolled": true
   },
   "outputs": [
    {
     "name": "stdout",
     "output_type": "stream",
     "text": [
      "Model: \"sequential_5\"\n",
      "_________________________________________________________________\n",
      "Layer (type)                 Output Shape              Param #   \n",
      "=================================================================\n",
      "conv2d_11 (Conv2D)           (None, 148, 148, 32)      896       \n",
      "_________________________________________________________________\n",
      "activation_11 (Activation)   (None, 148, 148, 32)      0         \n",
      "_________________________________________________________________\n",
      "max_pooling2d_10 (MaxPooling (None, 74, 74, 32)        0         \n",
      "_________________________________________________________________\n",
      "conv2d_12 (Conv2D)           (None, 72, 72, 64)        18496     \n",
      "_________________________________________________________________\n",
      "activation_12 (Activation)   (None, 72, 72, 64)        0         \n",
      "_________________________________________________________________\n",
      "max_pooling2d_11 (MaxPooling (None, 36, 36, 64)        0         \n",
      "_________________________________________________________________\n",
      "conv2d_13 (Conv2D)           (None, 34, 34, 128)       73856     \n",
      "_________________________________________________________________\n",
      "activation_13 (Activation)   (None, 34, 34, 128)       0         \n",
      "_________________________________________________________________\n",
      "max_pooling2d_12 (MaxPooling (None, 17, 17, 128)       0         \n",
      "_________________________________________________________________\n",
      "flatten_4 (Flatten)          (None, 36992)             0         \n",
      "_________________________________________________________________\n",
      "dense_7 (Dense)              (None, 64)                2367552   \n",
      "_________________________________________________________________\n",
      "activation_14 (Activation)   (None, 64)                0         \n",
      "_________________________________________________________________\n",
      "dropout_4 (Dropout)          (None, 64)                0         \n",
      "_________________________________________________________________\n",
      "dense_8 (Dense)              (None, 1)                 65        \n",
      "_________________________________________________________________\n",
      "activation_15 (Activation)   (None, 1)                 0         \n",
      "=================================================================\n",
      "Total params: 2,460,865\n",
      "Trainable params: 2,460,865\n",
      "Non-trainable params: 0\n",
      "_________________________________________________________________\n",
      "None\n"
     ]
    }
   ],
   "source": [
    "# Creating out model\n",
    "from keras.layers import Activation \n",
    "model = Sequential()\n",
    "model.add(Conv2D(32, (3, 3), input_shape=input_shape))\n",
    "model.add(Activation('relu'))\n",
    "model.add(MaxPooling2D(pool_size=(2, 2)))\n",
    "\n",
    "model.add(Conv2D(64, (3, 3)))\n",
    "model.add(Activation('relu'))\n",
    "model.add(MaxPooling2D(pool_size=(2, 2)))\n",
    "\n",
    "model.add(Conv2D(128, (3, 3)))\n",
    "model.add(Activation('relu'))\n",
    "model.add(MaxPooling2D(pool_size=(2, 2)))\n",
    "\n",
    "model.add(Flatten())\n",
    "model.add(Dense(64))\n",
    "model.add(Activation('relu'))\n",
    "model.add(Dropout(0.5))\n",
    "model.add(Dense(1))\n",
    "model.add(Activation('sigmoid'))\n",
    "\n",
    "print(model.summary())\n",
    "\n",
    "model.compile(loss='binary_crossentropy',\n",
    "              optimizer='rmsprop',\n",
    "              metrics=['accuracy'])"
   ]
  },
  {
   "cell_type": "code",
   "execution_count": 52,
   "metadata": {
    "scrolled": true
   },
   "outputs": [
    {
     "name": "stdout",
     "output_type": "stream",
     "text": [
      "Epoch 1/25\n",
      "125/125 [==============================] - 56s 448ms/step - loss: 0.7195 - accuracy: 0.5015 - val_loss: 0.6925 - val_accuracy: 0.5554\n",
      "Epoch 2/25\n",
      "125/125 [==============================] - 51s 405ms/step - loss: 0.6961 - accuracy: 0.5337 - val_loss: 0.5341 - val_accuracy: 0.5528\n",
      "Epoch 3/25\n",
      "125/125 [==============================] - 48s 382ms/step - loss: 0.6946 - accuracy: 0.5876 - val_loss: 0.4868 - val_accuracy: 0.5854\n",
      "Epoch 4/25\n",
      "125/125 [==============================] - 47s 379ms/step - loss: 0.6718 - accuracy: 0.6153 - val_loss: 0.6025 - val_accuracy: 0.6545\n",
      "Epoch 5/25\n",
      "125/125 [==============================] - 47s 377ms/step - loss: 0.6594 - accuracy: 0.6274 - val_loss: 0.6472 - val_accuracy: 0.6535\n",
      "Epoch 6/25\n",
      "125/125 [==============================] - 47s 377ms/step - loss: 0.6461 - accuracy: 0.6380 - val_loss: 0.8735 - val_accuracy: 0.6433\n",
      "Epoch 7/25\n",
      "125/125 [==============================] - 47s 376ms/step - loss: 0.6409 - accuracy: 0.6581 - val_loss: 0.6092 - val_accuracy: 0.6738\n",
      "Epoch 8/25\n",
      "125/125 [==============================] - 47s 377ms/step - loss: 0.6466 - accuracy: 0.6349 - val_loss: 0.5907 - val_accuracy: 0.6463\n",
      "Epoch 9/25\n",
      "125/125 [==============================] - 47s 376ms/step - loss: 0.6118 - accuracy: 0.6868 - val_loss: 0.7290 - val_accuracy: 0.6900\n",
      "Epoch 10/25\n",
      "125/125 [==============================] - 47s 376ms/step - loss: 0.6390 - accuracy: 0.6490 - val_loss: 0.3398 - val_accuracy: 0.6260\n",
      "Epoch 11/25\n",
      "125/125 [==============================] - 47s 376ms/step - loss: 0.6381 - accuracy: 0.6566 - val_loss: 0.2604 - val_accuracy: 0.6047\n",
      "Epoch 12/25\n",
      "125/125 [==============================] - 47s 376ms/step - loss: 0.6083 - accuracy: 0.6767 - val_loss: 0.5979 - val_accuracy: 0.6524\n",
      "Epoch 13/25\n",
      "125/125 [==============================] - 47s 375ms/step - loss: 0.6266 - accuracy: 0.6767 - val_loss: 0.4317 - val_accuracy: 0.6778\n",
      "Epoch 14/25\n",
      "125/125 [==============================] - 47s 376ms/step - loss: 0.6135 - accuracy: 0.6722 - val_loss: 0.3849 - val_accuracy: 0.6799\n",
      "Epoch 15/25\n",
      "125/125 [==============================] - 1360s 11s/step - loss: 0.6275 - accuracy: 0.7019 - val_loss: 0.5179 - val_accuracy: 0.7276\n",
      "Epoch 16/25\n",
      "125/125 [==============================] - 50s 397ms/step - loss: 0.5921 - accuracy: 0.7014 - val_loss: 0.5118 - val_accuracy: 0.6778\n",
      "Epoch 17/25\n",
      "125/125 [==============================] - 49s 392ms/step - loss: 0.5951 - accuracy: 0.6955 - val_loss: 0.5435 - val_accuracy: 0.7165\n",
      "Epoch 18/25\n",
      "125/125 [==============================] - 49s 392ms/step - loss: 0.6015 - accuracy: 0.6838 - val_loss: 0.6270 - val_accuracy: 0.7195\n",
      "Epoch 19/25\n",
      "125/125 [==============================] - 48s 388ms/step - loss: 0.6003 - accuracy: 0.6922 - val_loss: 0.6473 - val_accuracy: 0.7114\n",
      "Epoch 20/25\n",
      "125/125 [==============================] - 49s 390ms/step - loss: 0.6186 - accuracy: 0.6717 - val_loss: 0.5003 - val_accuracy: 0.7205\n",
      "Epoch 21/25\n",
      "125/125 [==============================] - 48s 384ms/step - loss: 0.5880 - accuracy: 0.7044 - val_loss: 0.6523 - val_accuracy: 0.7114\n",
      "Epoch 22/25\n",
      "125/125 [==============================] - 49s 392ms/step - loss: 0.6029 - accuracy: 0.6964 - val_loss: 0.5864 - val_accuracy: 0.7093\n",
      "Epoch 23/25\n",
      "125/125 [==============================] - 49s 391ms/step - loss: 0.6128 - accuracy: 0.6930 - val_loss: 0.5395 - val_accuracy: 0.7276\n",
      "Epoch 24/25\n",
      "125/125 [==============================] - 49s 393ms/step - loss: 0.6143 - accuracy: 0.6795 - val_loss: 0.4939 - val_accuracy: 0.6982\n",
      "Epoch 25/25\n",
      "125/125 [==============================] - 49s 394ms/step - loss: 0.5793 - accuracy: 0.7054 - val_loss: 0.4731 - val_accuracy: 0.6870\n"
     ]
    }
   ],
   "source": [
    "nb_train_samples = 2000\n",
    "nb_validation_samples = 1000\n",
    "\n",
    "history = model.fit_generator(\n",
    "    train_generator,\n",
    "    steps_per_epoch = nb_train_samples // batch_size,\n",
    "    epochs = epochs,\n",
    "    validation_data = test_generator,\n",
    "    validation_steps = nb_validation_samples // batch_size)\n",
    "\n"
   ]
  },
  {
   "cell_type": "code",
   "execution_count": 57,
   "metadata": {},
   "outputs": [
    {
     "name": "stdout",
     "output_type": "stream",
     "text": [
      "1000/1000 [==============================] - 5s 5ms/step\n",
      "Test Loss --->  0.7308197417259217\n",
      "Test Accuracy --->  63.999998569488525\n"
     ]
    }
   ],
   "source": [
    "model.save('model\\\\cats_vs_dogs_classifier_V2_augmented.h5')\n",
    "\n",
    "test_loss,test_accuracy = model.evaluate(test_X,test_y,verbose=1)\n",
    "print('Test Loss ---> ',test_loss)\n",
    "print('Test Accuracy ---> ',test_accuracy*100)"
   ]
  },
  {
   "cell_type": "code",
   "execution_count": 56,
   "metadata": {},
   "outputs": [
    {
     "ename": "AttributeError",
     "evalue": "'Sequential' object has no attribute 'history'",
     "output_type": "error",
     "traceback": [
      "\u001b[1;31m---------------------------------------------------------------------------\u001b[0m",
      "\u001b[1;31mAttributeError\u001b[0m                            Traceback (most recent call last)",
      "\u001b[1;32m<ipython-input-56-bc606ce1828e>\u001b[0m in \u001b[0;36m<module>\u001b[1;34m\u001b[0m\n\u001b[0;32m      2\u001b[0m \u001b[1;32mimport\u001b[0m \u001b[0mmatplotlib\u001b[0m\u001b[1;33m.\u001b[0m\u001b[0mpyplot\u001b[0m \u001b[1;32mas\u001b[0m \u001b[0mplt\u001b[0m\u001b[1;33m\u001b[0m\u001b[1;33m\u001b[0m\u001b[0m\n\u001b[0;32m      3\u001b[0m \u001b[1;33m\u001b[0m\u001b[0m\n\u001b[1;32m----> 4\u001b[1;33m \u001b[0mhistory_dict\u001b[0m \u001b[1;33m=\u001b[0m \u001b[0mhistory\u001b[0m\u001b[1;33m.\u001b[0m\u001b[0mhistory\u001b[0m\u001b[1;33m\u001b[0m\u001b[1;33m\u001b[0m\u001b[0m\n\u001b[0m\u001b[0;32m      5\u001b[0m \u001b[1;33m\u001b[0m\u001b[0m\n\u001b[0;32m      6\u001b[0m \u001b[0mloss_values\u001b[0m \u001b[1;33m=\u001b[0m \u001b[0mhistory_dict\u001b[0m\u001b[1;33m[\u001b[0m\u001b[1;34m'loss'\u001b[0m\u001b[1;33m]\u001b[0m\u001b[1;33m\u001b[0m\u001b[1;33m\u001b[0m\u001b[0m\n",
      "\u001b[1;31mAttributeError\u001b[0m: 'Sequential' object has no attribute 'history'"
     ]
    }
   ],
   "source": [
    "# Plotting our loss charts\n",
    "import matplotlib.pyplot as plt\n",
    "\n",
    "history_dict = history.history\n",
    "\n",
    "loss_values = history_dict['loss']\n",
    "val_loss_values = history_dict['val_loss']\n",
    "epochs = range(1, len(loss_values) + 1)\n",
    "\n",
    "plt.plot(epochs, val_loss_values,linewidth=2.0, marker = '+', markersize=10.0, label='Validation/Test Loss')\n",
    "plt.plot(epochs, loss_values, linewidth=2.0, marker = '4', markersize=10.0, label='Training Loss')\n",
    "\n",
    "plt.xlabel('Epochs') \n",
    "plt.ylabel('Loss')\n",
    "plt.grid(True)\n",
    "plt.legend()"
   ]
  },
  {
   "cell_type": "code",
   "execution_count": null,
   "metadata": {},
   "outputs": [],
   "source": [
    "# Plotting our accuracy charts\n",
    "\n",
    "acc_values = history_dict['accuracy']\n",
    "val_acc_values = history_dict['val_accuracy']\n",
    "epochs = range(1, len(loss_values) + 1)\n",
    "\n",
    "plt.plot(epochs, val_acc_values, linewidth=2.0, marker = '+', markersize=10.0, label='Validation/Test Accuracy')\n",
    "plt.plot(epochs, acc_values,  linewidth=2.0, marker = '4', markersize=10.0 ,label='Training Accuracy')\n",
    "\n",
    "plt.xlabel('Epochs') \n",
    "plt.ylabel('Accuracy')\n",
    "plt.grid(True)\n",
    "plt.legend()"
   ]
  },
  {
   "cell_type": "code",
   "execution_count": null,
   "metadata": {},
   "outputs": [],
   "source": []
  }
 ],
 "metadata": {
  "kernelspec": {
   "display_name": "Python 3",
   "language": "python",
   "name": "python3"
  },
  "language_info": {
   "codemirror_mode": {
    "name": "ipython",
    "version": 3
   },
   "file_extension": ".py",
   "mimetype": "text/x-python",
   "name": "python",
   "nbconvert_exporter": "python",
   "pygments_lexer": "ipython3",
   "version": "3.7.1"
  }
 },
 "nbformat": 4,
 "nbformat_minor": 2
}
